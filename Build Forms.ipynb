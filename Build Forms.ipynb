{
 "cells": [
  {
   "cell_type": "code",
   "execution_count": 5,
   "id": "8c3f7177",
   "metadata": {},
   "outputs": [],
   "source": [
    "from __future__ import print_function\n",
    "import ipywidgets as widgets\n",
    "from ipywidgets import interact, interactive, fixed, interact_manual, Layout\n",
    "\n",
    "from IPython.display import display"
   ]
  },
  {
   "cell_type": "code",
   "execution_count": 6,
   "id": "a2524390",
   "metadata": {},
   "outputs": [],
   "source": [
    "zipcodes=list(range(10001,10099,1))\n",
    "years=list(range(1901,2016,1))\n",
    "\n",
    "zipW = widgets.Dropdown(description=\"\", options=zipcodes, value=zipcodes[0], layout=Layout(width='100px'))\n",
    "viewW = widgets.Dropdown(\n",
    "    description=\"\", \n",
    "    options=['-','FAIR','AVERAGE','GOOD','EXCELLENT'], \n",
    "    value='-',\n",
    "    layout=Layout(width='120px'))\n",
    "\n",
    "yearW = widgets.Dropdown(description=\"Year:\", options=years, value=years[-1], layout=Layout(width='200px'))\n",
    "\n",
    "style = {'description_width': 'initial', 'handle_color' : 'darkgreen', }\n",
    "button_style = {'button_color':'green', 'description_color':'white'}\n",
    "\n",
    "gradeW = widgets.BoundedIntText(\n",
    "    value=8,\n",
    "    min=1,\n",
    "    max=13,\n",
    "    step=1,\n",
    "    description='',\n",
    "    disabled=False,\n",
    "    layout=Layout(width='100px')\n",
    ")\n",
    "\n",
    "livingW = widgets.IntSlider(\n",
    "    value=1500,\n",
    "    min=100,\n",
    "    max=15000,\n",
    "    step=10,\n",
    "    description='',\n",
    "    continuous_update=False,\n",
    "    readout=True,\n",
    "    readout_format='d',\n",
    "    layout=Layout(width='500px'),  style=style\n",
    ")\n",
    "\n",
    "lotW = widgets.IntSlider(\n",
    "    value=15000,\n",
    "    min=0,\n",
    "    max=100000,\n",
    "    step=100,\n",
    "    description='',\n",
    "    continuous_update=False,\n",
    "    readout=True,\n",
    "    readout_format=',',\n",
    "    layout=Layout(width='500px'),  style=style\n",
    ")\n",
    "\n",
    "waterW = widgets.Checkbox(\n",
    "    value=False,\n",
    "    description='Waterfront',\n",
    "    disabled=False,\n",
    "    indent=False\n",
    ")\n",
    "\n",
    "viewUI = widgets.HBox([viewW,waterW])\n",
    "\n",
    "button = widgets.Button(description=\"Calculate\", style=button_style)\n"
   ]
  },
  {
   "cell_type": "code",
   "execution_count": 7,
   "id": "24a3cc71",
   "metadata": {},
   "outputs": [],
   "source": [
    "form_item_layout = widgets.Layout(\n",
    "    display='flex-grow',\n",
    "    flex_flow='row',\n",
    "    justify_content='flex-start',\n",
    "    align_content='flex-end',\n",
    "    width='100%', style=style\n",
    ")\n",
    "\n",
    "\n",
    "\n",
    "form_items = [\n",
    "    \n",
    "    widgets.Box([widgets.Label(value='ZipCode:'), zipW, yearW], layout=form_item_layout),\n",
    "    widgets.Box([widgets.Label(value='Grade:'), gradeW], layout=form_item_layout),\n",
    "    widgets.Box([widgets.Label(value='House Square Footage:'),  livingW],  layout=form_item_layout),\n",
    "    widgets.Box([widgets.Label(value='Lot Square Footage:'), lotW], layout=form_item_layout),\n",
    "    widgets.Box([widgets.Label(value='View:'), viewUI],  layout=form_item_layout),\n",
    "    widgets.Box([button], layout=widgets.Layout(justify_content='center'))\n",
    "]\n",
    "\n",
    "form = widgets.Box(form_items, layout=widgets.Layout(\n",
    "    display='flex',\n",
    "    flex_flow='column',\n",
    "    border='solid 3px',\n",
    "    width='800px',\n",
    "    height='250px',\n",
    "    \n",
    "))\n",
    "\n",
    "form.box_style='success'"
   ]
  },
  {
   "cell_type": "code",
   "execution_count": 8,
   "id": "57ce8c4b",
   "metadata": {},
   "outputs": [
    {
     "data": {
      "application/vnd.jupyter.widget-view+json": {
       "model_id": "add1613383c04187bf789d98f60042b7",
       "version_major": 2,
       "version_minor": 0
      },
      "text/plain": [
       "Box(box_style='success', children=(Box(children=(Label(value='ZipCode:'), Dropdown(layout=Layout(width='100px'…"
      ]
     },
     "metadata": {},
     "output_type": "display_data"
    }
   ],
   "source": [
    "form"
   ]
  },
  {
   "cell_type": "code",
   "execution_count": null,
   "id": "2f35ec33",
   "metadata": {},
   "outputs": [],
   "source": [
    "\n"
   ]
  },
  {
   "cell_type": "code",
   "execution_count": null,
   "id": "95e01898",
   "metadata": {},
   "outputs": [],
   "source": []
  }
 ],
 "metadata": {
  "kernelspec": {
   "display_name": "Python 3 (ipykernel)",
   "language": "python",
   "name": "python3"
  },
  "language_info": {
   "codemirror_mode": {
    "name": "ipython",
    "version": 3
   },
   "file_extension": ".py",
   "mimetype": "text/x-python",
   "name": "python",
   "nbconvert_exporter": "python",
   "pygments_lexer": "ipython3",
   "version": "3.9.7"
  }
 },
 "nbformat": 4,
 "nbformat_minor": 5
}
