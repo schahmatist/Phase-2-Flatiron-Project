{
 "cells": [
  {
   "cell_type": "code",
   "execution_count": 215,
   "id": "cb221fb4",
   "metadata": {
    "slideshow": {
     "slide_type": "skip"
    }
   },
   "outputs": [],
   "source": [
    "%run code/import_libs.py\n",
    "%run code/functions_v1.3.py\n",
    "%run code/Build_Forms_v1.2.py\n",
    "%run code/initial_data_prep.py\n",
    "\n",
    "%matplotlib inline\n",
    "\n",
    "\n",
    "initial_pred = df.drop(columns=[\"price\"]).copy()\n",
    "initial_price = df[[\"price\"]]\n",
    "\n",
    "mean_price_2014_2015=initial_price.mean()[0]\n",
    "\n",
    "# Create OLS linear model\n",
    "pred_fin, price_fin = transform_data(initial_pred, initial_price)\n",
    "\n",
    "pred_int = sm.add_constant(pred_fin)\n",
    "model = sm.OLS(price_fin,pred_int).fit()\n",
    "\n",
    "coef_df=model.params.reset_index()\n",
    "coef_df.columns=[\"Column\",\"Value\"]\n",
    "\n",
    "#############################################################################\n",
    "def calculate_price (sqft_living, yr_built, basement, zipcode, grade, waterfront, view , sqft_lot,  \n",
    "                     mean_price, coef_df=coef_df, output='yes'):\n",
    " \n",
    "    if waterfront == 'NO' or not waterfront: \n",
    "        waterfront = 0\n",
    "    else: \n",
    "        waterfront = 1\n",
    "            \n",
    "    b0,b1,b2,b3,b4,b5,b6,b7,b8 = get_coeff( yr_built, zipcode, grade, waterfront, view, coef_df)\n",
    "    y=round( np.exp(b0 + b1*np.log(sqft_living) + b2*np.log(sqft_lot) + b3*basement + b4*waterfront + b5*grade + b6 + b7 + b8) )\n",
    "    \n",
    "    if output == 'yes': y=y*(mean_price/mean_price_2014_2015)\n",
    "    #print('{:,.0f}'.format(y))\n",
    "    return y,b0,b1,b2,b3,b4,b5,b6,b7,b8\n",
    "####################################################################################"
   ]
  },
  {
   "cell_type": "code",
   "execution_count": 216,
   "id": "fc09dd15",
   "metadata": {},
   "outputs": [
    {
     "data": {
      "text/plain": [
       "(769134.8735640938,\n",
       " 7.803921905237588,\n",
       " 0.45362222132141305,\n",
       " 0.07729672029678761,\n",
       " -0.02054468154939082,\n",
       " 0.5279311257523995,\n",
       " 0.11034328400912893,\n",
       " -0.1209679894029625,\n",
       " 0.7043113081532113,\n",
       " 0.08057863912254401)"
      ]
     },
     "execution_count": 216,
     "metadata": {},
     "output_type": "execute_result"
    }
   ],
   "source": [
    "np.array(df[['sqft_living', 'yr_built', 'basement', 'zipcode','grade','waterfront','view',  'sqft_lot', 'price']].sample())[0]\n",
    "\n",
    "\n",
    "calculate_price(1620, 1956, 1, 98008, 7, 'YES', 'GOOD', 7875, 425000, coef_df=coef_df)"
   ]
  },
  {
   "cell_type": "code",
   "execution_count": 217,
   "id": "8ce4ee96",
   "metadata": {},
   "outputs": [
    {
     "name": "stdout",
     "output_type": "stream",
     "text": [
      "-1.7779415922434045 13.722689578036029\n"
     ]
    }
   ],
   "source": [
    "\n",
    "\n",
    "abs_test_results=[]\n",
    "test_results=[]\n",
    "for i in range(1000):\n",
    "    X=np.array(df[['sqft_living', 'yr_built', 'basement', 'zipcode','grade','waterfront','view',  'sqft_lot', 'price']].sample())[0]\n",
    "    sqft_living, yr_built, basement, zipcode, grade, waterfront, view , sqft_lot, price=X\n",
    "\n",
    "    try:\n",
    "        y,b0,b1,b2,b3,b4,b5,b6,b7,b8=calculate_price(sqft_living, yr_built, basement, zipcode, grade, waterfront, \n",
    "                                                 view , sqft_lot,  550000, coef_df=coef_df, output='no')\n",
    "    except: \n",
    "        print (sqft_living, yr_built, basement, zipcode, grade, waterfront, view , sqft_lot,  550000)\n",
    "        continue\n",
    "#    else:\n",
    "#        print (\"It works=====>\", sqft_living, yr_built, basement, zipcode, grade, waterfront, view , sqft_lot,  550000)\n",
    "\n",
    "    miss_abs= np.abs(100-(y/price*100))\n",
    "    miss= 100-(y/price*100)\n",
    "    test_results.append(miss)\n",
    "    abs_test_results.append(miss_abs)\n",
    "\n",
    "avg_miss=sum(test_results)/len(test_results)\n",
    "avg_miss_abs=sum(abs_test_results)/len(abs_test_results)\n",
    "print (avg_miss, avg_miss_abs)\n"
   ]
  },
  {
   "cell_type": "code",
   "execution_count": 72,
   "id": "8a3e69f6",
   "metadata": {},
   "outputs": [
    {
     "name": "stdout",
     "output_type": "stream",
     "text": [
      "636665.6488796031 9.009306472364264 0.4567834012190797 0.07578454862818891 -0.020399110360911354 -0.12505837566371925 0.5763376353723886 -0.34786102632076954 0 0.011270778581614516\n",
      "100\n"
     ]
    }
   ],
   "source": [
    "#print (X)\n",
    "print(y,b0,b1,b2,b3,b4,b5,b6,b7,b8)\n",
    "print (len(test_results))"
   ]
  },
  {
   "cell_type": "code",
   "execution_count": 73,
   "id": "786a9eb2",
   "metadata": {
    "slideshow": {
     "slide_type": "skip"
    }
   },
   "outputs": [],
   "source": [
    "title=form_items[0].children[0]\n",
    "meanW=form_items[1].children[0]\n",
    "zipW=form_items[2].children[1]\n",
    "yearW=form_items[2].children[2]\n",
    "gradeW=form_items[3].children[1]\n",
    "livingW=form_items[4].children[1]\n",
    "basementW=form_items[4].children[2]\n",
    "lotW=form_items[5].children[1]\n",
    "viewW=form_items[6].children[1]\n",
    "waterW=form_items[6].children[2]\n",
    "\n",
    "#buttonW=form_items[5].children[0]\n",
    "\n",
    "output = widgets.interactive_output(calculate_price, { 'view':viewW,'waterfront':waterW,\n",
    "    'zipcode': zipW, 'yr_built':yearW, 'grade':gradeW, 'basement':basementW, \"mean_price\":meanW,\n",
    "    'sqft_living':livingW,'sqft_lot':lotW, } )\n",
    "\n",
    "\n",
    "\n",
    "ui = widgets.VBox([form, output])\n",
    "\n",
    "output.layout={'border': '3px solid green', 'width':'150px'}\n",
    "\n",
    "#predictor=display(ui)\n"
   ]
  },
  {
   "cell_type": "code",
   "execution_count": 74,
   "id": "f5548fee",
   "metadata": {},
   "outputs": [
    {
     "data": {
      "application/vnd.jupyter.widget-view+json": {
       "model_id": "1cc9c8310bbd49c8b18c772afb68756e",
       "version_major": 2,
       "version_minor": 0
      },
      "text/plain": [
       "VBox(children=(Box(box_style='success', children=(Box(children=(Text(value='Predicting House Sale Prices for K…"
      ]
     },
     "metadata": {},
     "output_type": "display_data"
    }
   ],
   "source": [
    "display(ui)"
   ]
  },
  {
   "cell_type": "code",
   "execution_count": null,
   "id": "5086cb50",
   "metadata": {},
   "outputs": [],
   "source": []
  },
  {
   "cell_type": "code",
   "execution_count": null,
   "id": "c59ef98c",
   "metadata": {},
   "outputs": [],
   "source": []
  }
 ],
 "metadata": {
  "celltoolbar": "Slideshow",
  "kernelspec": {
   "display_name": "Python 3 (ipykernel)",
   "language": "python",
   "name": "python3"
  },
  "language_info": {
   "codemirror_mode": {
    "name": "ipython",
    "version": 3
   },
   "file_extension": ".py",
   "mimetype": "text/x-python",
   "name": "python",
   "nbconvert_exporter": "python",
   "pygments_lexer": "ipython3",
   "version": "3.9.7"
  }
 },
 "nbformat": 4,
 "nbformat_minor": 5
}
