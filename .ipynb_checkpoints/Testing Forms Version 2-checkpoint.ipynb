{
 "cells": [
  {
   "cell_type": "code",
   "execution_count": 149,
   "id": "cb221fb4",
   "metadata": {
    "slideshow": {
     "slide_type": "skip"
    }
   },
   "outputs": [],
   "source": [
    "%run code/import_libs.py\n",
    "%run code/functions_v1.3.py\n",
    "%run code/Build_Forms_v1.2.py\n",
    "%run code/initial_data_prep.py\n",
    "\n",
    "%matplotlib inline\n",
    "\n",
    "\n",
    "initial_pred = df.drop(columns=[\"price\"]).copy()\n",
    "initial_price = df[[\"price\"]]\n",
    "\n",
    "mean_price_2014_2015=initial_price.mean()[0]\n",
    "\n",
    "# Create OLS linear model\n",
    "pred_fin, price_fin = transform_data(initial_pred, initial_price)\n",
    "\n",
    "pred_int = sm.add_constant(pred_fin)\n",
    "model = sm.OLS(price_fin,pred_int).fit()\n",
    "\n",
    "coef_df=model.params.reset_index()\n",
    "coef_df.columns=[\"Column\",\"Value\"]\n",
    "\n",
    "#############################################################################\n",
    "def calculate_price (sqft_living, yr_built, basement, zipcode, grade, waterfront, view , sqft_lot,  \n",
    "                     mean_price, coef_df=coef_df, output='yes'):\n",
    " \n",
    "    if waterfront == 'YES': waterfront == 1\n",
    "    else: waterfront = 0\n",
    "            \n",
    "    b0,b1,b2,b3,b4,b5,b6,b7,b8 = get_coeff( yr_built, zipcode, grade, waterfront, view, coef_df)\n",
    "    y=round( np.exp(b0 + b1*np.log(sqft_living) + b2*np.log(sqft_lot) + b3*basement + b4*waterfront + b5*grade + b6 + b7 + b8) )\n",
    "    \n",
    "    y=y*(mean_price/mean_price_2014_2015)\n",
    "    print('{:,.0f}'.format(y))\n",
    "    return y,b0,b1,b2,b3,b4,b5,b6,b7,b8\n",
    "####################################################################################"
   ]
  },
  {
   "cell_type": "code",
   "execution_count": 150,
   "id": "ccfbfc34",
   "metadata": {},
   "outputs": [
    {
     "name": "stdout",
     "output_type": "stream",
     "text": [
      "376,954\n"
     ]
    },
    {
     "data": {
      "text/plain": [
       "(376953.75810524053,\n",
       " 7.803921905237588,\n",
       " 0.45362222132141305,\n",
       " 0.07729672029678761,\n",
       " -0.02054468154939082,\n",
       " 0,\n",
       " 0.11034328400912893,\n",
       " -0.1209679894029625,\n",
       " 0.7043113081532113,\n",
       " -0.125178846065813)"
      ]
     },
     "execution_count": 150,
     "metadata": {},
     "output_type": "execute_result"
    }
   ],
   "source": [
    "np.array(df[['sqft_living', 'yr_built', 'basement', 'zipcode','grade','waterfront','view',  'sqft_lot', 'price']].sample())[0]\n",
    "\n",
    "calculate_price(1620, 1956, 0, 98008, 7, 'NO', 'NONE', 7875, 425000, coef_df=coef_df)"
   ]
  },
  {
   "cell_type": "code",
   "execution_count": 151,
   "id": "8ce4ee96",
   "metadata": {},
   "outputs": [
    {
     "name": "stdout",
     "output_type": "stream",
     "text": [
      "371,274\n",
      "292,614\n",
      "547,138\n",
      "302,780\n",
      "248,614\n",
      "466,849\n",
      "1,691,442\n",
      "333,818\n",
      "1,990,876\n",
      "237,030\n",
      "273,999\n",
      "263,528\n",
      "246,236\n",
      "438,215\n",
      "266,883\n",
      "396,610\n",
      "480,241\n",
      "444,886\n",
      "522,515\n",
      "425,414\n",
      "235,408\n",
      "522,723\n",
      "842,417\n",
      "1,015,242\n",
      "441,456\n",
      "673,765\n",
      "498,296\n",
      "495,800\n",
      "698,057\n",
      "639,529\n",
      "447,392\n",
      "612,160\n",
      "359,182\n",
      "635,345\n",
      "342,323\n",
      "304,156\n",
      "583,684\n",
      "446,319\n",
      "380,859\n",
      "430,981\n",
      "253,905\n",
      "341,264\n",
      "1,011,427\n",
      "421,745\n",
      "230,455\n",
      "515,962\n",
      "854,983\n",
      "371,875\n",
      "437,667\n",
      "434,471\n",
      "562,956\n",
      "830,352\n",
      "1,174,253\n",
      "286,540\n",
      "279,202\n",
      "477,830\n",
      "779,692\n",
      "272,115\n",
      "328,814\n",
      "591,800\n",
      "533,548\n",
      "506,032\n",
      "502,516\n",
      "242,402\n",
      "870,269\n",
      "619,141\n",
      "747,360\n",
      "1,702,710\n",
      "426,541\n",
      "290,802\n",
      "486,909\n",
      "337,020\n",
      "444,130\n",
      "331,203\n",
      "244,163\n",
      "587,097\n",
      "606,664\n",
      "390,809\n",
      "495,828\n",
      "478,280\n",
      "419,370\n",
      "304,746\n",
      "442,896\n",
      "684,268\n",
      "665,116\n",
      "484,145\n",
      "524,098\n",
      "512,762\n",
      "858,420\n",
      "828,941\n",
      "204,583\n",
      "189,493\n",
      "629,807\n",
      "331,690\n",
      "519,539\n",
      "443,059\n",
      "439,145\n",
      "426,009\n",
      "336,347\n",
      "810,853\n",
      "-5.530366432738901 12.981646828021361\n"
     ]
    }
   ],
   "source": [
    "\n",
    "\n",
    "abs_test_results=[]\n",
    "test_results=[]\n",
    "for i in range(100):\n",
    "    X=np.array(df[['sqft_living', 'yr_built', 'basement', 'zipcode','grade','waterfront','view',  'sqft_lot', 'price']].sample())[0]\n",
    "    sqft_living, yr_built, basement, zipcode, grade, waterfront, view , sqft_lot, price=X\n",
    "\n",
    "    y,b0,b1,b2,b3,b4,b5,b6,b7,b8=calculate_price(sqft_living, yr_built, basement, zipcode, grade, waterfront, \n",
    "                                                 view , sqft_lot,  550000, coef_df=coef_df, output='no')\n",
    "\n",
    "    miss_abs= np.abs(100-(y/price*100))\n",
    "    miss= 100-(y/price*100)\n",
    "    test_results.append(miss)\n",
    "    abs_test_results.append(miss_abs)\n",
    "\n",
    "avg_miss=sum(test_results)/len(test_results)\n",
    "avg_miss_abs=sum(abs_test_results)/len(abs_test_results)\n",
    "print (avg_miss, avg_miss_abs)\n"
   ]
  },
  {
   "cell_type": "code",
   "execution_count": 72,
   "id": "8a3e69f6",
   "metadata": {},
   "outputs": [
    {
     "name": "stdout",
     "output_type": "stream",
     "text": [
      "636665.6488796031 9.009306472364264 0.4567834012190797 0.07578454862818891 -0.020399110360911354 -0.12505837566371925 0.5763376353723886 -0.34786102632076954 0 0.011270778581614516\n",
      "100\n"
     ]
    }
   ],
   "source": [
    "#print (X)\n",
    "print(y,b0,b1,b2,b3,b4,b5,b6,b7,b8)\n",
    "print (len(test_results))"
   ]
  },
  {
   "cell_type": "code",
   "execution_count": 73,
   "id": "786a9eb2",
   "metadata": {
    "slideshow": {
     "slide_type": "skip"
    }
   },
   "outputs": [],
   "source": [
    "title=form_items[0].children[0]\n",
    "meanW=form_items[1].children[0]\n",
    "zipW=form_items[2].children[1]\n",
    "yearW=form_items[2].children[2]\n",
    "gradeW=form_items[3].children[1]\n",
    "livingW=form_items[4].children[1]\n",
    "basementW=form_items[4].children[2]\n",
    "lotW=form_items[5].children[1]\n",
    "viewW=form_items[6].children[1]\n",
    "waterW=form_items[6].children[2]\n",
    "\n",
    "#buttonW=form_items[5].children[0]\n",
    "\n",
    "output = widgets.interactive_output(calculate_price, { 'view':viewW,'waterfront':waterW,\n",
    "    'zipcode': zipW, 'yr_built':yearW, 'grade':gradeW, 'basement':basementW, \"mean_price\":meanW,\n",
    "    'sqft_living':livingW,'sqft_lot':lotW, } )\n",
    "\n",
    "\n",
    "\n",
    "ui = widgets.VBox([form, output])\n",
    "\n",
    "output.layout={'border': '3px solid green', 'width':'150px'}\n",
    "\n",
    "#predictor=display(ui)\n"
   ]
  },
  {
   "cell_type": "code",
   "execution_count": 74,
   "id": "db192bab",
   "metadata": {},
   "outputs": [
    {
     "data": {
      "application/vnd.jupyter.widget-view+json": {
       "model_id": "1cc9c8310bbd49c8b18c772afb68756e",
       "version_major": 2,
       "version_minor": 0
      },
      "text/plain": [
       "VBox(children=(Box(box_style='success', children=(Box(children=(Text(value='Predicting House Sale Prices for K…"
      ]
     },
     "metadata": {},
     "output_type": "display_data"
    }
   ],
   "source": [
    "display(ui)"
   ]
  },
  {
   "cell_type": "code",
   "execution_count": null,
   "id": "fc8b0bdb",
   "metadata": {},
   "outputs": [],
   "source": []
  },
  {
   "cell_type": "code",
   "execution_count": null,
   "id": "cf7b6a85",
   "metadata": {},
   "outputs": [],
   "source": []
  }
 ],
 "metadata": {
  "celltoolbar": "Slideshow",
  "kernelspec": {
   "display_name": "Python 3 (ipykernel)",
   "language": "python",
   "name": "python3"
  },
  "language_info": {
   "codemirror_mode": {
    "name": "ipython",
    "version": 3
   },
   "file_extension": ".py",
   "mimetype": "text/x-python",
   "name": "python",
   "nbconvert_exporter": "python",
   "pygments_lexer": "ipython3",
   "version": "3.9.7"
  }
 },
 "nbformat": 4,
 "nbformat_minor": 5
}
