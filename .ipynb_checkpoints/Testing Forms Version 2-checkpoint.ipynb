{
 "cells": [
  {
   "cell_type": "code",
   "execution_count": 1,
   "id": "cb221fb4",
   "metadata": {
    "slideshow": {
     "slide_type": "skip"
    }
   },
   "outputs": [],
   "source": [
    "%run code/import_libs.py\n",
    "%run code/functions_v1.4.py\n",
    "%run code/Build_Forms_v1.4.py\n",
    "%run code/initial_data_prep.py\n",
    "\n",
    "%matplotlib inline\n",
    "\n",
    "\n",
    "initial_pred = df.drop(columns=[\"price\"]).copy()\n",
    "initial_price = df[[\"price\"]]\n",
    "\n",
    "mean_price_2014_2015=initial_price.mean()[0]\n",
    "\n",
    "# Create OLS linear model\n",
    "pred_fin, price_fin = transform_data(initial_pred, initial_price)\n",
    "\n",
    "pred_int = sm.add_constant(pred_fin)\n",
    "model = sm.OLS(price_fin,pred_int).fit()\n",
    "\n",
    "coef_df=model.params.reset_index()\n",
    "coef_df.columns=[\"Column\",\"Value\"]\n",
    "\n",
    "#############################################################################\n",
    "def calculate_price (sqft_living, decade, basement, zipcode, grade, waterfront, view , sqft_lot,  \n",
    "                     mean_price, coef_df=coef_df, output='yes'):\n",
    " \n",
    "    if waterfront == 'NO' or not waterfront: \n",
    "        waterfront = 0\n",
    "    else: \n",
    "        waterfront = 1\n",
    "            \n",
    "    b0,b1,b2,b3,b4,b5,b6,b7,b8 = get_coeff( decade, zipcode, grade, waterfront, view, coef_df)\n",
    "    y=round( np.exp(b0 + b1*np.log(sqft_living) + b2*np.log(sqft_lot) + b3*basement + b4*waterfront + b5*grade + b6 + b7 + b8) )\n",
    "    \n",
    "    if output == 'yes': y=y*(mean_price/mean_price_2014_2015)\n",
    "    print('{:,.0f}'.format(y))\n",
    "    return y,b0,b1,b2,b3,b4,b5,b6,b7,b8\n",
    "####################################################################################"
   ]
  },
  {
   "cell_type": "code",
   "execution_count": 3,
   "id": "be7c83f6",
   "metadata": {},
   "outputs": [
    {
     "data": {
      "text/plain": [
       "(88,)"
      ]
     },
     "execution_count": 3,
     "metadata": {},
     "output_type": "execute_result"
    }
   ],
   "source": [
    "#np.array(df[['sqft_living', 'decade', 'basement', 'zipcode','grade','waterfront','view',  'sqft_lot', 'price']].sample())[0]\n",
    "\n",
    "model.summary()\n",
    "\n",
    "#calculate_price(1620, 1956, 1, 98008, 7, 'YES', 'GOOD', 7875, 425000, coef_df=coef_df)"
   ]
  },
  {
   "cell_type": "code",
   "execution_count": 24,
   "id": "8ce4ee96",
   "metadata": {},
   "outputs": [
    {
     "name": "stdout",
     "output_type": "stream",
     "text": [
      "1,170,231\n",
      "495,359\n",
      "340,972\n",
      "-17.040094633907447 18.57361898920831\n"
     ]
    }
   ],
   "source": [
    "\n",
    "abs_test_results=[]\n",
    "test_results=[]\n",
    "for i in range(3):\n",
    "    X=np.array(df[['sqft_living', 'decade', 'basement', 'zipcode','grade','waterfront','view',  'sqft_lot', 'price']].sample())[0]\n",
    "    sqft_living, decade, basement, zipcode, grade, waterfront, view , sqft_lot, price=X\n",
    "\n",
    "    try:\n",
    "        y,b0,b1,b2,b3,b4,b5,b6,b7,b8=calculate_price(sqft_living, decade, basement, zipcode, grade, waterfront, \n",
    "                                                 view , sqft_lot,  550000, coef_df=coef_df, output='no')\n",
    "    except: \n",
    "        print (sqft_living, decade, basement, zipcode, grade, waterfront, view , sqft_lot,  550000)\n",
    "        continue\n",
    "#    else:\n",
    "#        print (\"It works=====>\", sqft_living, decade, basement, zipcode, grade, waterfront, view , sqft_lot,  550000)\n",
    "\n",
    "    miss_abs= np.abs(100-(y/price*100))\n",
    "    miss= 100-(y/price*100)\n",
    "    test_results.append(miss)\n",
    "    abs_test_results.append(miss_abs)\n",
    "\n",
    "avg_miss=sum(test_results)/len(test_results)\n",
    "avg_miss_abs=sum(abs_test_results)/len(abs_test_results)\n",
    "print (avg_miss, avg_miss_abs)\n",
    "#####################"
   ]
  },
  {
   "cell_type": "code",
   "execution_count": 25,
   "id": "786a9eb2",
   "metadata": {
    "slideshow": {
     "slide_type": "skip"
    }
   },
   "outputs": [],
   "source": [
    "\n",
    "\n",
    "#buttonW=form_items[5].children[0]\n",
    "\n",
    "inp={ 'view':viewW,'waterfront':waterW,\n",
    "    'zipcode': zipW, 'decade':decadeW, 'grade':gradeW, 'basement':basementW, \"mean_price\":meanW,\n",
    "    'sqft_living':livingW,'sqft_lot':lotW }\n",
    "\n",
    "output = widgets.interactive_output(calculate_price, inp )\n",
    "\n",
    "\n",
    "\n",
    "ui = widgets.VBox([form, output])\n",
    "\n",
    "output.layout={'border': '3px solid green', 'width':'150px'}\n",
    "\n"
   ]
  },
  {
   "cell_type": "code",
   "execution_count": 26,
   "id": "788e1c93",
   "metadata": {
    "scrolled": false
   },
   "outputs": [
    {
     "data": {
      "application/vnd.jupyter.widget-view+json": {
       "model_id": "1bd29b1633f345b097392aec0000b470",
       "version_major": 2,
       "version_minor": 0
      },
      "text/plain": [
       "VBox(children=(Box(box_style='success', children=(Box(children=(Text(value='Predicting House Sale Prices for K…"
      ]
     },
     "metadata": {},
     "output_type": "display_data"
    }
   ],
   "source": [
    "display(ui)"
   ]
  },
  {
   "cell_type": "code",
   "execution_count": 27,
   "id": "60f8637a",
   "metadata": {},
   "outputs": [],
   "source": [
    "None"
   ]
  },
  {
   "cell_type": "code",
   "execution_count": null,
   "id": "5e2556e8",
   "metadata": {},
   "outputs": [],
   "source": []
  }
 ],
 "metadata": {
  "celltoolbar": "Slideshow",
  "kernelspec": {
   "display_name": "Python 3 (ipykernel)",
   "language": "python",
   "name": "python3"
  },
  "language_info": {
   "codemirror_mode": {
    "name": "ipython",
    "version": 3
   },
   "file_extension": ".py",
   "mimetype": "text/x-python",
   "name": "python",
   "nbconvert_exporter": "python",
   "pygments_lexer": "ipython3",
   "version": "3.9.7"
  }
 },
 "nbformat": 4,
 "nbformat_minor": 5
}
