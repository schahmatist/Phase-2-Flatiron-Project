{
 "cells": [
  {
   "cell_type": "code",
   "execution_count": 108,
   "id": "ece84107",
   "metadata": {
    "slideshow": {
     "slide_type": "skip"
    }
   },
   "outputs": [],
   "source": [
    "%run code/import_libs.py\n",
    "%run code/functions.py\n",
    "#%run code/functions_v1.py\n",
    "%run code/Build_Forms.py\n",
    "%run code/initial_data_prep.py\n",
    "\n",
    "%matplotlib inline\n",
    "\n",
    "initial_pred = df.drop(columns=[\"price\"]).copy()\n",
    "initial_price = df[[\"price\"]]\n",
    "\n",
    "pred_fin, price_fin = transform_data(initial_pred, initial_price)\n",
    "\n",
    "# Create OLS linear model\n",
    "\n",
    "pred_int = sm.add_constant(pred_fin)\n",
    "model = sm.OLS(price_fin,pred_int).fit()\n",
    "model.rsquared_adj\n",
    "\n",
    "\n",
    "coef_df=model.params.reset_index()\n",
    "coef_df.columns=[\"Column\",\"Value\"]\n",
    "\n",
    "\n"
   ]
  },
  {
   "cell_type": "code",
   "execution_count": 109,
   "id": "3283c855",
   "metadata": {
    "slideshow": {
     "slide_type": "skip"
    }
   },
   "outputs": [
    {
     "data": {
      "application/vnd.jupyter.widget-view+json": {
       "model_id": "e5074c4073684b2fa88a5de65aaa2d1f",
       "version_major": 2,
       "version_minor": 0
      },
      "text/plain": [
       "IntText(value=522541, description='Mean House Price to compare with:', style=DescriptionStyle(description_widt…"
      ]
     },
     "metadata": {},
     "output_type": "display_data"
    }
   ],
   "source": [
    "form_items[1].children[0]"
   ]
  },
  {
   "cell_type": "code",
   "execution_count": 110,
   "id": "cbae911e",
   "metadata": {
    "slideshow": {
     "slide_type": "skip"
    }
   },
   "outputs": [],
   "source": [
    "title=form_items[0].children[0]\n",
    "medianW=form_items[1].children[0]\n",
    "zipW=form_items[2].children[1]\n",
    "yearW=form_items[2].children[2]\n",
    "gradeW=form_items[3].children[1]\n",
    "livingW=form_items[4].children[1]\n",
    "livingW=form_items[4].children[2]\n",
    "lotW=form_items[5].children[1]\n",
    "viewW=form_items[6].children[1]\n",
    "waterW=form_items[6].children[2]\n",
    "#buttonW=form_items[5].children[0]\n",
    "\n",
    "output = widgets.interactive_output(calculate_price, {\n",
    "    'zipcode': zipW, 'yr_built':yearW, 'grade':gradeW,\n",
    "    'sqft_living':livingW,'sqft_lot':lotW,'view':viewW,'waterfront':waterW } )\n",
    "\n",
    "      \n",
    "ui = widgets.VBox([form, output])\n",
    "\n",
    "output.layout={'border': '3px solid green', 'width':'150px'}\n",
    "\n",
    "#predictor=display(ui)\n"
   ]
  },
  {
   "cell_type": "code",
   "execution_count": 111,
   "id": "a48e79af",
   "metadata": {},
   "outputs": [
    {
     "data": {
      "text/html": [
       "<div>\n",
       "<style scoped>\n",
       "    .dataframe tbody tr th:only-of-type {\n",
       "        vertical-align: middle;\n",
       "    }\n",
       "\n",
       "    .dataframe tbody tr th {\n",
       "        vertical-align: top;\n",
       "    }\n",
       "\n",
       "    .dataframe thead th {\n",
       "        text-align: right;\n",
       "    }\n",
       "</style>\n",
       "<table border=\"1\" class=\"dataframe\">\n",
       "  <thead>\n",
       "    <tr style=\"text-align: right;\">\n",
       "      <th></th>\n",
       "      <th>Column</th>\n",
       "      <th>Value</th>\n",
       "    </tr>\n",
       "  </thead>\n",
       "  <tbody>\n",
       "    <tr>\n",
       "      <th>72</th>\n",
       "      <td>wat_YES</td>\n",
       "      <td>0.541165</td>\n",
       "    </tr>\n",
       "  </tbody>\n",
       "</table>\n",
       "</div>"
      ],
      "text/plain": [
       "     Column     Value\n",
       "72  wat_YES  0.541165"
      ]
     },
     "execution_count": 111,
     "metadata": {},
     "output_type": "execute_result"
    }
   ],
   "source": [
    "coef_df[coef_df['Column'] == \"wat_YES\"]"
   ]
  },
  {
   "cell_type": "code",
   "execution_count": 112,
   "id": "afda0905",
   "metadata": {},
   "outputs": [
    {
     "name": "stdout",
     "output_type": "stream",
     "text": [
      "49.6224968631905 49.908069261495974\n"
     ]
    }
   ],
   "source": [
    "def get_coeff( sqft_living, sqft_lot, basement, year, zipcode, grade, waterfront, view, coef_df):\n",
    "    intercept=coef_df[coef_df['Column'] == \"const\"][\"Value\"].tolist()[0]\n",
    "\n",
    "    if waterfront == 'WATERFRONT':\n",
    "        water_coef=coef_df[coef_df['Column'] == \"wat_YES\"][\"Value\"].tolist()[0]\n",
    "    else:\n",
    "        water_coef=0        \n",
    " \n",
    "    if len(str(year)) != 4:\n",
    "        year_coef=0\n",
    "    else:\n",
    "        try: year_coef=coef_df[coef_df['Column'].str.endswith(str(year))][\"Value\"].tolist()[0]\n",
    "        except: year_coef=0\n",
    "\n",
    "    if len(str(zipcode)) != 5:\n",
    "        zipcode_coef=0\n",
    "    else:\n",
    "        try: zipcode_coef=coef_df[coef_df['Column'].str.endswith(str(zipcode))][\"Value\"].tolist()[0]\n",
    "        except: zipcode_coef=0\n",
    "\n",
    "    if view  not in ['NONE', 'FAIR','GOOD','EXCELLENT']:\n",
    "        view_coef=0\n",
    "    else:\n",
    "        try: view_coef=coef_df[coef_df['Column'].str.endswith(view)][\"Value\"].tolist()[0]\n",
    "        except: view_coef=0\n",
    "    \n",
    "    try:\n",
    "        sqft_lot_coef=coef_df[coef_df['Column'] == \"sqft_lot\"][\"Value\"].tolist()[0]\n",
    "    except:\n",
    "        sqft_lot_coef=0\n",
    "\n",
    "    sqft_living_coef=coef_df[coef_df['Column'] == \"sqft_living\"][\"Value\"].tolist()[0]\n",
    "#    sqft_lot_coef=coef_df[coef_df['Column'] == \"sqft_lot\"][\"Value\"].tolist()[0]\n",
    "    grade_coef=coef_df[coef_df['Column'] == \"grade\"][\"Value\"].tolist()[0]\n",
    "    basement_coef=coef_df[coef_df['Column'] == \"basement\"][\"Value\"].tolist()[0]\n",
    "    \n",
    "    return intercept, sqft_living_coef, sqft_lot_coef, basement_coef, year_coef, zipcode_coef, grade_coef,  water_coef, view_coef \n",
    "\n",
    "\n",
    "\n",
    "\n",
    "def calculate_price (sqft_living, sqft_lot, basement, yr_built, zipcode, grade, waterfront, view , coef_df=coef_df):\n",
    "    if view == '-':\n",
    "        view='NONE'\n",
    "\n",
    "    if waterfront == 'YES': waterfront='WATERFRONT'\n",
    "    else: waterfront = 'NONE'\n",
    "\n",
    "\n",
    "\n",
    "    b0,b1,b2,b3,b4,b5,b6,b7,b8 = get_coeff( sqft_living, sqft_lot, basement, yr_built, zipcode, grade, waterfront, view, coef_df)\n",
    "    y=round( np.exp(b0 + b1*np.log(sqft_living) + b2*np.log(sqft_lot)  + b3 + b4 + b5 + b6 + b7 +b7+b8) )\n",
    "\n",
    "#    print(y)\n",
    "    return y,b0,b1,b2,b3,b4,b5,b6,b7,b8\n",
    "\n",
    "\n",
    "\n",
    "abs_test_results=[]\n",
    "test_results=[]\n",
    "for i in range(1000):\n",
    "    X=np.array(df[['sqft_living','sqft_lot', 'basement', 'yr_built','zipcode','grade','waterfront','view', 'price']].sample())[0]\n",
    "    sqft_living, sqft_lot, basement, yr_built, zipcode, grade, waterfront, view ,price=X\n",
    "\n",
    "#    b0,b1,b2,b3,b4,b5,b6,b7 = get_coeff( year=year, zipcode=zipcode, grade=grade, water=water, view=view, coef_df=coef_df)\n",
    "#    y=round( np.exp(b0 + b1*np.log(sqft_living) + b2 + b3 + b4 + b5 + b6 + b7*np.log(sqft_lot)) )\n",
    "\n",
    "    y,b0,b1,b2,b3,b4,b5,b6,b7,b8= calculate_price (sqft_living, sqft_lot, basement, yr_built, zipcode, grade, waterfront, view , coef_df=coef_df)\n",
    "\n",
    "    miss_abs= np.abs(100-(y/price*100))\n",
    "    miss= 100-(y/price*100)\n",
    "    test_results.append(miss)\n",
    "    abs_test_results.append(miss_abs)\n",
    "\n",
    "avg_miss=sum(test_results)/len(test_results)\n",
    "avg_miss_abs=sum(abs_test_results)/len(abs_test_results)\n",
    "print (avg_miss, avg_miss_abs)\n"
   ]
  },
  {
   "cell_type": "code",
   "execution_count": 95,
   "id": "6018bd07",
   "metadata": {},
   "outputs": [
    {
     "name": "stdout",
     "output_type": "stream",
     "text": [
      "[2440 2812 1 2005 98027 8 'NO' 'NONE' 613000.0]\n",
      "239446 7.660134744586906 0.4736731249132946 0.06910227500532118 -0.03596949920196424 0 0.5393306735370655 0.10555631445012625 0 -0.12628714951201875\n",
      "1000\n"
     ]
    }
   ],
   "source": [
    "print (X)\n",
    "print(y,b0,b1,b2,b3,b4,b5,b6,b7,b8)\n",
    "print (len(test_results))"
   ]
  },
  {
   "cell_type": "code",
   "execution_count": 69,
   "id": "70503401",
   "metadata": {
    "slideshow": {
     "slide_type": "slide"
    }
   },
   "outputs": [
    {
     "data": {
      "application/vnd.jupyter.widget-view+json": {
       "model_id": "9e80f262fb2944a6bfff52ff3580e946",
       "version_major": 2,
       "version_minor": 0
      },
      "text/plain": [
       "VBox(children=(Box(box_style='success', children=(Box(children=(Text(value='Predicting House Sale Prices for K…"
      ]
     },
     "metadata": {},
     "output_type": "display_data"
    }
   ],
   "source": [
    "ui"
   ]
  },
  {
   "cell_type": "code",
   "execution_count": null,
   "id": "019a3ad9",
   "metadata": {},
   "outputs": [],
   "source": []
  }
 ],
 "metadata": {
  "celltoolbar": "Slideshow",
  "kernelspec": {
   "display_name": "Python 3 (ipykernel)",
   "language": "python",
   "name": "python3"
  },
  "language_info": {
   "codemirror_mode": {
    "name": "ipython",
    "version": 3
   },
   "file_extension": ".py",
   "mimetype": "text/x-python",
   "name": "python",
   "nbconvert_exporter": "python",
   "pygments_lexer": "ipython3",
   "version": "3.9.7"
  }
 },
 "nbformat": 4,
 "nbformat_minor": 5
}
