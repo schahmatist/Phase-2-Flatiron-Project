{
 "cells": [
  {
   "cell_type": "markdown",
   "metadata": {
    "slideshow": {
     "slide_type": "slide"
    }
   },
   "source": [
    "# Phase 2 Project: Technical Presentation of Price Predictor"
   ]
  },
  {
   "cell_type": "markdown",
   "metadata": {
    "slideshow": {
     "slide_type": "slide"
    }
   },
   "source": [
    "  <img src=\"images/solution.jpg\" alt=\"drawing\" align=\"right\"  width=\"350\"/> \n",
    "  \n",
    "# Solution\n",
    "\n",
    "*  Analyzing 2014-2015 dataset with past sales\n",
    "*  Identifying individual and joined factors.\n",
    "*  Prepairing features for the model\n",
    "*  Calculate all the features coefficients \n",
    "*  Testing the results\n",
    "\n"
   ]
  },
  {
   "cell_type": "markdown",
   "metadata": {
    "slideshow": {
     "slide_type": "slide"
    }
   },
   "source": [
    "<img src=\"images/problem.jpg\" alt=\"drawing\" align=\"right\"  width=\"380\"/> \n",
    "\n",
    "# Objectives\n",
    "\n",
    "*  How multiple features work together?\n",
    "*  Quantifying joined features effect\n",
    "*  Building a predictive model\n",
    "* Building a front end for a customer\n",
    "\n",
    "\n"
   ]
  },
  {
   "cell_type": "markdown",
   "metadata": {
    "slideshow": {
     "slide_type": "slide"
    }
   },
   "source": [
    "# Data\n",
    "***\n",
    "#### King County house sales dataset contains:\n",
    "*  details for 22,000 sold houses\n",
    "*  final sales prices \n",
    "\n",
    "All the data is from 2014-2015 \n",
    "\n"
   ]
  },
  {
   "cell_type": "markdown",
   "metadata": {
    "slideshow": {
     "slide_type": "slide"
    }
   },
   "source": [
    "\n",
    "# Features Identified\n",
    "#### Main Features: \n",
    "* House Sq footage \n",
    "* Grade of design and materials quality\n",
    "* Zipcode\n",
    "* Waterfront\n",
    "* View\n",
    "\n"
   ]
  },
  {
   "cell_type": "markdown",
   "metadata": {
    "slideshow": {
     "slide_type": "slide"
    }
   },
   "source": [
    "## Additional Features: \n",
    "* Lot size\n",
    "* Basement\n",
    "* House Age\n",
    "\n",
    "#### Only marginal effect from:\n",
    "* Number of bedrooms, bathrooms, and floors"
   ]
  },
  {
   "cell_type": "code",
   "execution_count": 19,
   "metadata": {
    "slideshow": {
     "slide_type": "slide"
    }
   },
   "outputs": [
    {
     "data": {
      "text/plain": [
       "(20880, 28)"
      ]
     },
     "execution_count": 19,
     "metadata": {},
     "output_type": "execute_result"
    }
   ],
   "source": [
    "## importing Libraries\n",
    "%run code/import_libs.py\n",
    "\n",
    "from sklearn.model_selection import train_test_split\n",
    "from sklearn.linear_model import LinearRegression\n",
    "from sklearn.metrics import mean_squared_error\n",
    "from sklearn.model_selection import cross_val_score\n",
    "\n",
    "## Importing Functions\n",
    "%run code/functions_v1.4.py\n",
    "\n",
    "\n",
    "\n",
    "## Loading and Initial preparation of the data (fillnulls, new features, filtering)\n",
    "%run code/initial_data_prep.py\n",
    "\n",
    "%matplotlib inline\n",
    "mean_price_2014_2015=initial_price.mean()[0]\n",
    "\n",
    "# SPLITTING DATA IN PREDICTORS(X) and price (Y)\n",
    "\n",
    "initial_pred = df.drop(columns=[\"price\"]).copy()\n",
    "initial_price = df[[\"price\"]]\n",
    "\n",
    "#FILTER\n",
    "df=df[~df[\"grade\"].isin([3,4,5])].copy()\n",
    "df.shape"
   ]
  },
  {
   "cell_type": "markdown",
   "metadata": {
    "slideshow": {
     "slide_type": "slide"
    }
   },
   "source": [
    "# Data Modeling\n",
    "#### An iterative approach to data modeling \n",
    "-  Calculating Efficiency for basic features  \n",
    "-  Prepairing model features\n",
    "-  Training multiple models\n",
    "-  Chosing the most efficient model \n",
    "-  Testing against different subset of data\n"
   ]
  },
  {
   "cell_type": "markdown",
   "metadata": {
    "slideshow": {
     "slide_type": "slide"
    }
   },
   "source": [
    "* ## Prepared Data for Modeling using custom \"transform_data\" function (see functions_v1.4.py)  \n",
    "\n",
    "\n",
    "* ## Created/trained model using statsmodels.OLS  \n",
    "\n",
    "\n",
    "* ## Made sure r-square is good  \n"
   ]
  },
  {
   "cell_type": "code",
   "execution_count": 20,
   "metadata": {
    "slideshow": {
     "slide_type": "slide"
    }
   },
   "outputs": [],
   "source": [
    "# Create OLS linear model\n",
    "pred_fin, price_fin = transform_data(initial_pred, initial_price)\n",
    "\n",
    "pred_int = sm.add_constant(pred_fin)\n",
    "model = sm.OLS(price_fin,pred_int).fit()\n",
    "\n",
    "coef_df=model.params.reset_index()\n",
    "coef_df.columns=[\"Column\",\"Value\"]"
   ]
  },
  {
   "cell_type": "markdown",
   "metadata": {
    "slideshow": {
     "slide_type": "slide"
    }
   },
   "source": [
    "# custom functions to get coefficients from <br>OLS and calculate the formula of the slopes\n",
    "\n",
    "* used custom function \"calcuate_price\" and \"get_coeff\" to get coefficients from ols model (see functions_v1.4.py"
   ]
  },
  {
   "cell_type": "code",
   "execution_count": 21,
   "metadata": {
    "slideshow": {
     "slide_type": "slide"
    }
   },
   "outputs": [],
   "source": [
    "\n",
    "\n",
    "#############################################################################\n",
    "def calculate_price (sqft_living, decade, basement, zipcode, grade, waterfront, view , sqft_lot,  \n",
    "                     mean_price, coef_df=coef_df, output='yes'):\n",
    " \n",
    "    if waterfront == 'NO' or not waterfront: \n",
    "        waterfront = 0\n",
    "    else: \n",
    "        waterfront = 1\n",
    "            \n",
    "    b0,b1,b2,b3,b4,b5,b6,b7,b8 = get_coeff( decade, zipcode, grade, waterfront, view, coef_df)\n",
    "    y=round( np.exp(b0 + b1*np.log(sqft_living) + b2*np.log(sqft_lot) + b3*basement + b4*waterfront + b5*grade + b6 + b7 + b8) )\n",
    "    \n",
    "    if output == 'yes': y=y*(mean_price/mean_price_2014_2015)\n",
    "    print('{:,.0f}'.format(y))\n",
    "    return y,b0,b1,b2,b3,b4,b5,b6,b7,b8\n",
    "####################################################################################\n"
   ]
  },
  {
   "cell_type": "markdown",
   "metadata": {
    "slideshow": {
     "slide_type": "slide"
    }
   },
   "source": [
    "# Creating UI forms"
   ]
  },
  {
   "cell_type": "code",
   "execution_count": 22,
   "metadata": {
    "slideshow": {
     "slide_type": "slide"
    }
   },
   "outputs": [],
   "source": [
    "## Importing Widgets Forms\n",
    "%run code/Build_Forms_v1.4.py\n",
    "\n",
    "\n",
    "inp={ 'view':viewW,'waterfront':waterW,\n",
    "    'zipcode': zipW, 'decade':decadeW, 'grade':gradeW, 'basement':basementW, \"mean_price\":meanW,\n",
    "    'sqft_living':livingW,'sqft_lot':lotW }\n",
    "\n",
    "output = widgets.interactive_output(calculate_price, inp )\n",
    "\n",
    "\n",
    "\n",
    "ui = widgets.VBox([form, output])\n",
    "\n",
    "output.layout={'border': '3px solid green', 'width':'150px'}\n"
   ]
  },
  {
   "cell_type": "markdown",
   "metadata": {
    "slideshow": {
     "slide_type": "slide"
    }
   },
   "source": [
    "# Building a Front End Tool:"
   ]
  },
  {
   "cell_type": "code",
   "execution_count": 23,
   "metadata": {
    "slideshow": {
     "slide_type": "fragment"
    }
   },
   "outputs": [
    {
     "data": {
      "application/vnd.jupyter.widget-view+json": {
       "model_id": "982385ab382b42acad703441b81674e5",
       "version_major": 2,
       "version_minor": 0
      },
      "text/plain": [
       "VBox(children=(Box(box_style='success', children=(Box(children=(Text(value='Predicting House Sale Prices for K…"
      ]
     },
     "metadata": {},
     "output_type": "display_data"
    }
   ],
   "source": [
    "display(ui)"
   ]
  },
  {
   "cell_type": "markdown",
   "metadata": {
    "slideshow": {
     "slide_type": "slide"
    }
   },
   "source": [
    "# Testing\n",
    "***\n",
    "\n",
    "We made sure the tool works as expected:\n",
    "* Multiple comparissons of predicted data against the actual data\n",
    "* Predicted price is within 90-110% of actual price (houses newer than 1980)\n",
    "* Predicted price is within 87-113% of actual price (houses older than 1980)\n",
    "***"
   ]
  },
  {
   "cell_type": "markdown",
   "metadata": {
    "slideshow": {
     "slide_type": "slide"
    }
   },
   "source": [
    "# Conclusions\n",
    "***\n",
    "\n",
    "#### Considerations and Limitations:\n",
    "\n",
    "\n",
    "* The tool can be effective to estimate base price for known features\n",
    "* In the future a model should be re-trained with more up-to-date data\n",
    "* The presented prototype will be greatly improved by more advanced modeling\n"
   ]
  }
 ],
 "metadata": {
  "celltoolbar": "Slideshow",
  "kernelspec": {
   "display_name": "Python 3 (ipykernel)",
   "language": "python",
   "name": "python3"
  },
  "language_info": {
   "codemirror_mode": {
    "name": "ipython",
    "version": 3
   },
   "file_extension": ".py",
   "mimetype": "text/x-python",
   "name": "python",
   "nbconvert_exporter": "python",
   "pygments_lexer": "ipython3",
   "version": "3.9.7"
  }
 },
 "nbformat": 4,
 "nbformat_minor": 4
}
