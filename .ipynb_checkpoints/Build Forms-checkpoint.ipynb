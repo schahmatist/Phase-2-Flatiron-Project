{
 "cells": [
  {
   "cell_type": "code",
   "execution_count": 67,
   "id": "e4c7dac2",
   "metadata": {},
   "outputs": [],
   "source": [
    "from __future__ import print_function\n",
    "import ipywidgets as widgets\n",
    "from ipywidgets import interact, interactive, fixed, interact_manual, Layout\n",
    "\n",
    "from IPython.display import display"
   ]
  },
  {
   "cell_type": "code",
   "execution_count": 91,
   "id": "1c649fe6",
   "metadata": {},
   "outputs": [],
   "source": [
    "zipcodes=list(range(10001,10099,1))\n",
    "years=list(range(1901,2016,1))\n",
    "\n",
    "zipW = widgets.Dropdown(description=\"\", options=zipcodes, value=zipcodes[0])\n",
    "viewW = widgets.Dropdown(description=\"\", options=['-','FAIR','AVERAGE','GOOD','EXCELLENT'], value='-')\n",
    "yearW = widgets.Dropdown(description=\"\", options=years, value=years[-1])\n",
    "\n",
    "style = {'description_width': 'initial'}\n",
    "\n",
    "gradeW = widgets.BoundedIntText(\n",
    "    value=8,\n",
    "    min=1,\n",
    "    max=13,\n",
    "    step=1,\n",
    "    description='',\n",
    "    disabled=False\n",
    ")\n",
    "\n",
    "livingW = widgets.IntSlider(\n",
    "    value=1500,\n",
    "    min=100,\n",
    "    max=15000,\n",
    "    step=10,\n",
    "    description='Living Sqft',\n",
    "    continuous_update=False,\n",
    "    readout=True,\n",
    "    readout_format='d',\n",
    "    style=style\n",
    ")\n",
    "\n",
    "lotW = widgets.IntSlider(\n",
    "    value=15000,\n",
    "    min=0,\n",
    "    max=100000,\n",
    "    step=100,\n",
    "    description='Lot Sqft',\n",
    "    continuous_update=False,\n",
    "    readout=True,\n",
    "    readout_format=','\n",
    ")\n",
    "\n",
    "waterW = widgets.Checkbox(\n",
    "    value=False,\n",
    "    description='Waterfront',\n",
    "    disabled=False,\n",
    "    indent=False\n",
    ")\n",
    "\n",
    "viewUI = widgets.HBox([viewW,waterW])\n"
   ]
  },
  {
   "cell_type": "code",
   "execution_count": 92,
   "id": "11d8a7d6",
   "metadata": {},
   "outputs": [
    {
     "data": {
      "application/vnd.jupyter.widget-view+json": {
       "model_id": "3433f7b255314dd5bfff1645bb1e3e42",
       "version_major": 2,
       "version_minor": 0
      },
      "text/plain": [
       "HBox(children=(Dropdown(options=('-', 'FAIR', 'AVERAGE', 'GOOD', 'EXCELLENT'), value='-'), Checkbox(value=Fals…"
      ]
     },
     "metadata": {},
     "output_type": "display_data"
    }
   ],
   "source": [
    "viewUI"
   ]
  },
  {
   "cell_type": "code",
   "execution_count": 161,
   "id": "a1cd6c07",
   "metadata": {},
   "outputs": [
    {
     "data": {
      "application/vnd.jupyter.widget-view+json": {
       "model_id": "59c117eb04024985ad3a26486c166cde",
       "version_major": 2,
       "version_minor": 0
      },
      "text/plain": [
       "Box(children=(Box(children=(Label(value='View:'), Dropdown(options=('-', 'FAIR', 'AVERAGE', 'GOOD', 'EXCELLENT…"
      ]
     },
     "metadata": {},
     "output_type": "display_data"
    }
   ],
   "source": [
    "form_item_layout = widgets.Layout(\n",
    "    display='flex',\n",
    "    flex_flow='row',\n",
    "    justify_content='flex-start',\n",
    "    width='100%'\n",
    ")\n",
    "\n",
    "form_items = [\n",
    "    widgets.Box([widgets.Label(value='View:'), viewW], layout=form_item_layout),\n",
    "    widgets.Box([widgets.Label(value='ZipCode:'), zipW], layout=form_item_layout),\n",
    "    widgets.Box([widgets.Label(value='Grade:'), gradeW], layout=form_item_layout),\n",
    "    widgets.Box([widgets.Label(value='House Square Footage:'), livingW], layout=form_item_layout),\n",
    "    widgets.Box([widgets.Label(value='Lot Square Footage:'), lotW], layout=form_item_layout),\n",
    "    widgets.Box([widgets.Label(value='Year:'), yearW], layout=form_item_layout),\n",
    "]\n",
    "\n",
    "form = widgets.Box(form_items, layout=widgets.Layout(\n",
    "    display='flex',\n",
    "    flex_flow='column-reverse',\n",
    "    border='solid 3px',\n",
    "    align_items='stretch',\n",
    "    width='100%',\n",
    "    height='200px'\n",
    "))\n",
    "form"
   ]
  },
  {
   "cell_type": "code",
   "execution_count": null,
   "id": "6d87b6e9",
   "metadata": {},
   "outputs": [],
   "source": []
  },
  {
   "cell_type": "code",
   "execution_count": null,
   "id": "8b72c891",
   "metadata": {},
   "outputs": [],
   "source": []
  }
 ],
 "metadata": {
  "kernelspec": {
   "display_name": "Python 3 (ipykernel)",
   "language": "python",
   "name": "python3"
  },
  "language_info": {
   "codemirror_mode": {
    "name": "ipython",
    "version": 3
   },
   "file_extension": ".py",
   "mimetype": "text/x-python",
   "name": "python",
   "nbconvert_exporter": "python",
   "pygments_lexer": "ipython3",
   "version": "3.9.7"
  }
 },
 "nbformat": 4,
 "nbformat_minor": 5
}
