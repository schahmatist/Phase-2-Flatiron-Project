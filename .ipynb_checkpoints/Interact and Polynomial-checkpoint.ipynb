{
 "cells": [
  {
   "cell_type": "code",
   "execution_count": 667,
   "id": "90c041a7",
   "metadata": {},
   "outputs": [],
   "source": [
    "%run code/import_libs.py\n",
    "%run code/functions.py\n",
    "%run code/Build_Forms.py\n",
    "%run code/initial_data_prep.py\n",
    "\n",
    "%matplotlib inline\n",
    "\n"
   ]
  },
  {
   "cell_type": "code",
   "execution_count": 668,
   "id": "0f57f0f3",
   "metadata": {},
   "outputs": [],
   "source": [
    "from sklearn.model_selection import train_test_split\n",
    "from sklearn.linear_model import LinearRegression\n",
    "from sklearn.metrics import mean_squared_error\n",
    "from sklearn.model_selection import cross_val_score\n",
    "from sklearn.model_selection import KFold"
   ]
  },
  {
   "cell_type": "code",
   "execution_count": 669,
   "id": "1f831c7a",
   "metadata": {},
   "outputs": [],
   "source": [
    "%run code/initial_data_prep.py\n",
    "#FILTER\n",
    "\n",
    "#df=df[df['yr_built']>1951]\n",
    "#df=df[df['price']<800000].copy()\n",
    "#df=df[df['sqft_living']<12000].copy()\n",
    "\n",
    "df=df[~df[\"grade\"].isin([3,4,5])]\n",
    "\n",
    "\n",
    "initial_pred = df.drop(columns=[\"price\"]).copy()\n",
    "initial_price = df[[\"price\"]]\n"
   ]
  },
  {
   "cell_type": "code",
   "execution_count": 673,
   "id": "13ef43eb",
   "metadata": {},
   "outputs": [],
   "source": [
    "x1, y1 = transform_data(initial_pred, initial_price)\n",
    "\n",
    "\n",
    "#x1['interact3']=x1['sqft_living']*df['condition']\n",
    "x1['interact5']=x1['sqft_living']*x1['grade']\n",
    "x1['interact6']= x1['sqft_living']*x1['sqft_lot']\n",
    "x1['interact7']=x1['grade']**2\n",
    "x1['condition']=df['condition']\n",
    "x1['basement']=df['basement']\n",
    "\n",
    "#x1['interact8']=df['bathrooms']*df['grade']\n",
    "#x1['price_per_sqft']=df['price_per_sqft']\n",
    "#x1.drop('sqft_living',axis=1,inplace=True)\n",
    "\n",
    "#x1['interact6']=df['grade']*df['after_1980']\n",
    "#x1['interact7']=df['bedrooms']*df['basement']\n",
    "\n",
    "#x1['year']=x1['year']**2\n",
    "\n"
   ]
  },
  {
   "cell_type": "code",
   "execution_count": 678,
   "id": "a3a1073a",
   "metadata": {},
   "outputs": [
    {
     "data": {
      "text/plain": [
       "const           True\n",
       "sqft_living     True\n",
       "sqft_lot        True\n",
       "zip_98002      False\n",
       "zip_98003      False\n",
       "zip_98004       True\n",
       "zip_98005       True\n",
       "zip_98006       True\n",
       "zip_98007       True\n",
       "zip_98008       True\n",
       "zip_98010       True\n",
       "zip_98011       True\n",
       "zip_98014       True\n",
       "zip_98019       True\n",
       "zip_98022       True\n",
       "zip_98023      False\n",
       "zip_98024       True\n",
       "zip_98027       True\n",
       "zip_98028       True\n",
       "zip_98029       True\n",
       "zip_98030       True\n",
       "zip_98031       True\n",
       "zip_98032      False\n",
       "zip_98033       True\n",
       "zip_98034       True\n",
       "zip_98038       True\n",
       "zip_98039       True\n",
       "zip_98040       True\n",
       "zip_98042       True\n",
       "zip_98045       True\n",
       "zip_98052       True\n",
       "zip_98053       True\n",
       "zip_98055       True\n",
       "zip_98056       True\n",
       "zip_98058       True\n",
       "zip_98059       True\n",
       "zip_98065       True\n",
       "zip_98070       True\n",
       "zip_98072       True\n",
       "zip_98074       True\n",
       "zip_98075       True\n",
       "zip_98077       True\n",
       "zip_98092      False\n",
       "zip_98102       True\n",
       "zip_98103       True\n",
       "zip_98105       True\n",
       "zip_98106       True\n",
       "zip_98107       True\n",
       "zip_98108       True\n",
       "zip_98109       True\n",
       "zip_98112       True\n",
       "zip_98115       True\n",
       "zip_98116       True\n",
       "zip_98117       True\n",
       "zip_98118       True\n",
       "zip_98119       True\n",
       "zip_98122       True\n",
       "zip_98125       True\n",
       "zip_98126       True\n",
       "zip_98133       True\n",
       "zip_98136       True\n",
       "zip_98144       True\n",
       "zip_98146       True\n",
       "zip_98148       True\n",
       "zip_98155       True\n",
       "zip_98166       True\n",
       "zip_98168       True\n",
       "zip_98177       True\n",
       "zip_98178       True\n",
       "zip_98188       True\n",
       "zip_98198       True\n",
       "zip_98199       True\n",
       "wat_YES         True\n",
       "view            True\n",
       "grade          False\n",
       "interact5       True\n",
       "interact6      False\n",
       "interact7      False\n",
       "condition      False\n",
       "basement       False\n",
       "dtype: bool"
      ]
     },
     "execution_count": 678,
     "metadata": {},
     "output_type": "execute_result"
    }
   ],
   "source": [
    "pred=x1\n",
    "price=y1\n",
    "pred_int = sm.add_constant(pred)\n",
    "model = sm.OLS(price,pred_int).fit()\n"
   ]
  },
  {
   "cell_type": "code",
   "execution_count": 672,
   "id": "a1f3b7b9",
   "metadata": {},
   "outputs": [
    {
     "data": {
      "text/plain": [
       "0.8796729879888799"
      ]
     },
     "execution_count": 672,
     "metadata": {},
     "output_type": "execute_result"
    }
   ],
   "source": [
    "regression = LinearRegression()\n",
    "crossvalidation = KFold(n_splits=5, shuffle=True, random_state=3)\n",
    "\n",
    "baseline = np.mean(cross_val_score(regression, x1, y1, scoring='r2', cv=crossvalidation))\n",
    "baseline"
   ]
  },
  {
   "cell_type": "code",
   "execution_count": 176,
   "id": "205ed11f",
   "metadata": {},
   "outputs": [
    {
     "data": {
      "text/plain": [
       "<seaborn.axisgrid.FacetGrid at 0x210d8cbabe0>"
      ]
     },
     "execution_count": 176,
     "metadata": {},
     "output_type": "execute_result"
    },
    {
     "data": {
      "image/png": "[encoded data removed]",
      "text/plain": [
       "<Figure size 1296x216 with 6 Axes>"
      ]
     },
     "metadata": {
      "needs_background": "light"
     },
     "output_type": "display_data"
    }
   ],
   "source": [
    "\n",
    "transformed_df=pd.concat([initial_pred, initial_price], axis=1)\n",
    "g = sns.FacetGrid(df, col=\"floors\") \n",
    "g.map(sns.regplot, \"sqft_living\", \"price\")\n",
    "\n"
   ]
  },
  {
   "cell_type": "code",
   "execution_count": 498,
   "id": "455df0b6",
   "metadata": {},
   "outputs": [
    {
     "data": {
      "text/plain": [
       "id\n",
       "7129300520    7\n",
       "6414100192    7\n",
       "5631500400    6\n",
       "2487200875    7\n",
       "1954400510    8\n",
       "             ..\n",
       "263000018     8\n",
       "6600060120    8\n",
       "1523300141    7\n",
       "291310100     8\n",
       "1523300157    7\n",
       "Name: grade, Length: 20869, dtype: category\n",
       "Categories (8, int64): [6, 7, 8, 9, 10, 11, 12, 13]"
      ]
     },
     "execution_count": 498,
     "metadata": {},
     "output_type": "execute_result"
    }
   ],
   "source": [
    "df.grade.astype('category')"
   ]
  },
  {
   "cell_type": "code",
   "execution_count": null,
   "id": "e9072c51",
   "metadata": {},
   "outputs": [],
   "source": []
  }
 ],
 "metadata": {
  "kernelspec": {
   "display_name": "Python 3 (ipykernel)",
   "language": "python",
   "name": "python3"
  },
  "language_info": {
   "codemirror_mode": {
    "name": "ipython",
    "version": 3
   },
   "file_extension": ".py",
   "mimetype": "text/x-python",
   "name": "python",
   "nbconvert_exporter": "python",
   "pygments_lexer": "ipython3",
   "version": "3.9.7"
  }
 },
 "nbformat": 4,
 "nbformat_minor": 5
}
