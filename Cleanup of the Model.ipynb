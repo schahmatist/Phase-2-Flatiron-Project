{
 "cells": [
  {
   "cell_type": "code",
   "execution_count": 666,
   "id": "a586396a",
   "metadata": {},
   "outputs": [],
   "source": [
    "%run code/import_libs.py\n",
    "%run code/functions.py\n",
    "%run code/Build_Forms.py\n",
    "%matplotlib inline\n",
    "\n",
    "\n",
    "pd.set_option('display.max_rows', 200)\n",
    "pd.set_option('display.max_columns', 30)\n",
    "pd.options.display.float_format = '{:,}'.format\n"
   ]
  },
  {
   "cell_type": "code",
   "execution_count": 668,
   "id": "1498e2d8",
   "metadata": {},
   "outputs": [
    {
     "data": {
      "text/plain": [
       "(8683, 24)"
      ]
     },
     "execution_count": 668,
     "metadata": {},
     "output_type": "execute_result"
    }
   ],
   "source": [
    "df=pd.read_csv('data/kc_house_data.csv', index_col=0)\n",
    "\n",
    "# initial cleaning operations (splitting , etc)\n",
    "\n",
    "df[\"grade\"]=df[\"grade\"].map(lambda x: x.split()[0]).astype(int)\n",
    "df['condition'] = df['condition'].apply(enum_category)\n",
    "\n",
    "# Prepairing data\n",
    "\n",
    "df['yr_renovated'].fillna(value=df['yr_built'],inplace=True)\n",
    "df['yr_renovated'] = np.where(df['yr_renovated'] == 0, df['yr_built'], df['yr_renovated'])\n",
    "\n",
    "df['waterfront'].fillna(value='NO',inplace=True)\n",
    "\n",
    "#NEW FEATURES\n",
    "\n",
    "df['lat_range']=pd.cut(df['lat'], 30)\n",
    "df['long_range']=pd.cut(df['long'], 30)\n",
    "df['coord_range']=np.array(zip(df['lat_range'],df['long_range']))\n",
    "df['decade']=pd.cut(df['yr_built'], 12)\n",
    "\n",
    "#FILTER\n",
    "df=df[df['yr_built']>1980]\n",
    "#df=df[df['price']<3000000].copy()\n",
    "df=df[df['sqft_living']<8000].copy()\n",
    "df=df[df['sqft_lot']<80000].copy()\n",
    "df=df[~df[\"grade\"].isin([3,4,5])]\n",
    "\n",
    "df.shape"
   ]
  },
  {
   "cell_type": "code",
   "execution_count": 669,
   "id": "5ae6df8d",
   "metadata": {},
   "outputs": [],
   "source": [
    "initial_pred = df.drop(columns=[\"price\"]).copy()\n",
    "initial_price = df[[\"price\"]]"
   ]
  },
  {
   "cell_type": "code",
   "execution_count": 670,
   "id": "b0b00bbc",
   "metadata": {},
   "outputs": [],
   "source": [
    "pred_fin, price_fin = transform_data(initial_pred, initial_price)\n",
    "\n"
   ]
  },
  {
   "cell_type": "code",
   "execution_count": 671,
   "id": "cf31a203",
   "metadata": {},
   "outputs": [
    {
     "data": {
      "image/png": "[encoded data removed]",
      "text/plain": [
       "<Figure size 576x720 with 4 Axes>"
      ]
     },
     "metadata": {
      "needs_background": "light"
     },
     "output_type": "display_data"
    }
   ],
   "source": [
    "\n",
    "pd.concat([price_fin, pred_fin[['sqft_living','sqft_lot']]], axis=1).hist(figsize=(8,10), bins=20);\n"
   ]
  },
  {
   "cell_type": "code",
   "execution_count": 672,
   "id": "19773a8d",
   "metadata": {},
   "outputs": [
    {
     "data": {
      "text/plain": [
       "0.9192101340304918"
      ]
     },
     "execution_count": 672,
     "metadata": {},
     "output_type": "execute_result"
    }
   ],
   "source": [
    "# Create OLS linear model\n",
    "\n",
    "\n",
    "pred_int = sm.add_constant(pred_fin)\n",
    "model = sm.OLS(price_fin,pred_int).fit()\n",
    "model.rsquared_adj\n"
   ]
  },
  {
   "cell_type": "code",
   "execution_count": 673,
   "id": "d777b8ab",
   "metadata": {},
   "outputs": [],
   "source": [
    "coef_df=model.params.reset_index()\n",
    "coef_df.columns=[\"Column\",\"Value\"]"
   ]
  },
  {
   "cell_type": "code",
   "execution_count": 674,
   "id": "844a4ac8",
   "metadata": {
    "scrolled": true
   },
   "outputs": [
    {
     "name": "stdout",
     "output_type": "stream",
     "text": [
      "-1.1963777187362632 10.57641791261384\n"
     ]
    }
   ],
   "source": [
    "abs_test_results=[]\n",
    "test_results=[]\n",
    "for i in range(4000):\n",
    "    X=np.array(df[['sqft_living','yr_built','zipcode','grade','waterfront','view', 'sqft_lot','price']].sample())[0]\n",
    "    sqft_living,year,zipcode,grade,water,view,sqft_lot,price=X\n",
    "\n",
    "    b0,b1,b2,b3,b4,b5,b6,b7 = get_coeff( year=year, zipcode=zipcode, grade=grade, water=water, view=view, coef_df=coef_df)\n",
    "    y=round( np.exp(b0 + b1*np.log(sqft_living) + b2 + b3 + b4 + b5 + b6 + b7*np.log(sqft_lot)) )\n",
    "   \n",
    "    miss_abs= np.abs(100-(y/price*100))\n",
    "    miss= 100-(y/price*100)\n",
    "    test_results.append(miss)\n",
    "    abs_test_results.append(miss_abs)\n",
    "\n",
    "avg_miss=sum(test_results)/len(test_results)\n",
    "avg_miss_abs=sum(abs_test_results)/len(abs_test_results)\n",
    "print (avg_miss, avg_miss_abs)\n",
    "\n"
   ]
  },
  {
   "cell_type": "code",
   "execution_count": 403,
   "id": "0e5970c8",
   "metadata": {},
   "outputs": [],
   "source": [
    "\n",
    "def calculate_price (sqft_living, yr_built, zipcode, grade, waterfront, view , sqft_lot, coef_df=coef_df):\n",
    "    if view == '-':\n",
    "        view='NONE'\n",
    "\n",
    "    if waterfront:\n",
    "        waterfront='WATERFRONT'\n",
    "    else:\n",
    "        waterfront='NONE'\n",
    "\n",
    "    b0,b1,b2,b3,b4,b5,b6,b7 = get_coeff( yr_built,zipcode,grade, waterfront, view, coef_df)\n",
    "    y=round( np.exp(b0 + b1*np.log(sqft_living) + b2 + b3 + b4 + b5 + b6 + b7*np.log(sqft_lot)) )\n",
    "\n",
    "    print(y)\n",
    "    return y,b0,b1,b2,b3,b4,b5,b6,b7\n",
    "\n"
   ]
  },
  {
   "cell_type": "code",
   "execution_count": 404,
   "id": "2e2c2d36",
   "metadata": {},
   "outputs": [],
   "source": [
    "title=form_items[0].children[0]\n",
    "zipW=form_items[1].children[1]\n",
    "yearW=form_items[1].children[2]\n",
    "gradeW=form_items[2].children[1]\n",
    "livingW=form_items[3].children[1]\n",
    "lotW=form_items[4].children[1]\n",
    "viewW=form_items[5].children[1]\n",
    "waterW=form_items[5].children[2]\n",
    "#buttonW=form_items[5].children[0]\n"
   ]
  },
  {
   "cell_type": "code",
   "execution_count": 405,
   "id": "983ac5b0",
   "metadata": {
    "scrolled": true
   },
   "outputs": [
    {
     "data": {
      "application/vnd.jupyter.widget-view+json": {
       "model_id": "37694b1c80df474db42c881104e4cd7a",
       "version_major": 2,
       "version_minor": 0
      },
      "text/plain": [
       "VBox(children=(Box(box_style='success', children=(Box(children=(Text(value='Predicting House Sale Prices for K…"
      ]
     },
     "metadata": {},
     "output_type": "display_data"
    }
   ],
   "source": [
    "#def on_button_clicked(X):\n",
    "#    X=calculate_price(livingW.value, yearW.value, zipW.value,  gradeW.value, waterW.value, viewW.value, lotW.value, 'No')\n",
    "#    with out:\n",
    "#        output2.clear_output()\n",
    "#        display(\"{:,}\".format(X[0]))\n",
    "\n",
    "#buttonW.on_click(on_button_clicked)  \n",
    "\n",
    "\n",
    "output = widgets.interactive_output(calculate_price, {\n",
    "    'zipcode': zipW, 'yr_built':yearW, 'grade':gradeW,\n",
    "    'sqft_living':livingW,'sqft_lot':lotW,'view':viewW,'waterfront':waterW } )\n",
    "\n",
    "      \n",
    "ui = widgets.VBox([form, output])\n",
    "\n",
    "output.layout={'border': '3px solid green', 'width':'150px'}\n",
    "\n",
    "display(ui)\n",
    "\n",
    "\n"
   ]
  },
  {
   "cell_type": "code",
   "execution_count": 19,
   "id": "9ceb0029",
   "metadata": {},
   "outputs": [],
   "source": [
    "df[['sqft_living','yr_built','zipcode','grade','waterfront','view', 'sqft_lot','price']].sample()\n",
    "\n",
    "X=calculate_price(7550,2000, 98030, 10, 'NO','NONE', 54100);\n",
    "X"
   ]
  },
  {
   "cell_type": "code",
   "execution_count": 314,
   "id": "d48cd642",
   "metadata": {},
   "outputs": [],
   "source": [
    "import folium\n",
    "\n",
    "lat_list=[lat for lat in df.groupby('coord_range').min()['lat']]\n",
    "long_list=[long for long in df.groupby('coord_range').min()['long']]\n"
   ]
  },
  {
   "cell_type": "code",
   "execution_count": 315,
   "id": "f156be0d",
   "metadata": {},
   "outputs": [],
   "source": [
    "\n",
    "\n",
    "base_map = folium.Map([lat[0], long[0]], zoom_start=13)"
   ]
  },
  {
   "cell_type": "code",
   "execution_count": 347,
   "id": "0b408d4b",
   "metadata": {},
   "outputs": [],
   "source": [
    "\n"
   ]
  },
  {
   "cell_type": "code",
   "execution_count": null,
   "id": "7db68969",
   "metadata": {},
   "outputs": [],
   "source": []
  }
 ],
 "metadata": {
  "kernelspec": {
   "display_name": "Python 3 (ipykernel)",
   "language": "python",
   "name": "python3"
  },
  "language_info": {
   "codemirror_mode": {
    "name": "ipython",
    "version": 3
   },
   "file_extension": ".py",
   "mimetype": "text/x-python",
   "name": "python",
   "nbconvert_exporter": "python",
   "pygments_lexer": "ipython3",
   "version": "3.9.7"
  }
 },
 "nbformat": 4,
 "nbformat_minor": 5
}
