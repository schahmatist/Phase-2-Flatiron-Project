{
 "cells": [
  {
   "cell_type": "code",
   "execution_count": 1,
   "id": "b4a23ad5",
   "metadata": {},
   "outputs": [],
   "source": [
    "import warnings\n",
    "warnings.filterwarnings(action='ignore', category=UserWarning)\n",
    "warnings.filterwarnings(action='ignore', category=FutureWarning)\n",
    "\n",
    "import numpy as np\n",
    "import math\n",
    "import pandas as pd\n",
    "import itertools\n",
    "\n",
    "import seaborn as sns\n",
    "import matplotlib.pyplot as plt\n",
    "%matplotlib inline\n",
    "\n",
    "from scipy import stats\n",
    "import statsmodels.api as sm\n",
    "from statsmodels.formula.api import ols\n",
    "\n",
    "%run code/functions.py\n",
    "%run code/Build_Forms.py\n",
    "None\n",
    "\n",
    "pd.set_option('display.max_rows', 200)\n",
    "pd.set_option('display.max_columns', 30)\n",
    "pd.options.display.float_format = '{:,}'.format\n"
   ]
  },
  {
   "cell_type": "code",
   "execution_count": 2,
   "id": "0a4a631e",
   "metadata": {},
   "outputs": [],
   "source": [
    "df=pd.read_csv('data/kc_house_data.csv', index_col=0)\n",
    "\n",
    "# initial cleaning operations (splitting , etc)\n",
    "\n",
    "df[\"grade\"]=df[\"grade\"].map(lambda x: x.split()[0]).astype(int)\n",
    "df=df[~df[\"grade\"].isin([3,4,5])]\n",
    "\n",
    "df['condition'] = df['condition'].apply(enum_category)\n",
    "\n"
   ]
  },
  {
   "cell_type": "code",
   "execution_count": 29,
   "id": "668f3c41",
   "metadata": {},
   "outputs": [
    {
     "data": {
      "text/plain": [
       "7.0"
      ]
     },
     "execution_count": 29,
     "metadata": {},
     "output_type": "execute_result"
    }
   ],
   "source": [
    "df['zipcode'].value_counts().head()\n",
    "np.percentile(df['sqft_living'], 49), np.percentile(df['sqft_living'], 51)\n",
    "df['grade'].median()\n"
   ]
  },
  {
   "cell_type": "code",
   "execution_count": 25,
   "id": "d9924389",
   "metadata": {},
   "outputs": [
    {
     "data": {
      "text/plain": [
       "(1900.0, 1950.0)"
      ]
     },
     "execution_count": 25,
     "metadata": {},
     "output_type": "execute_result"
    }
   ],
   "source": []
  },
  {
   "cell_type": "code",
   "execution_count": 60,
   "id": "a80ce88d",
   "metadata": {},
   "outputs": [],
   "source": [
    "df_sq_grade=df[(df['sqft_living'] >= 1850) & (df['sqft_living'] <= 2050) & (df['grade']==7)]\n",
    "by_zipcode_df=avg_sq_grade_df.groupby('zipcode').mean().reset_index()[['zipcode','price']].sort_values(by='price', \\\n",
    "                                                                                                       ascending=False)\n",
    "zipcode_best_df=by_zipcode_df.head()"
   ]
  },
  {
   "cell_type": "code",
   "execution_count": 51,
   "id": "5e87baea",
   "metadata": {},
   "outputs": [],
   "source": []
  },
  {
   "cell_type": "code",
   "execution_count": 58,
   "id": "e5631005",
   "metadata": {},
   "outputs": [],
   "source": []
  },
  {
   "cell_type": "code",
   "execution_count": null,
   "id": "738b936f",
   "metadata": {},
   "outputs": [],
   "source": []
  }
 ],
 "metadata": {
  "kernelspec": {
   "display_name": "Python 3 (ipykernel)",
   "language": "python",
   "name": "python3"
  },
  "language_info": {
   "codemirror_mode": {
    "name": "ipython",
    "version": 3
   },
   "file_extension": ".py",
   "mimetype": "text/x-python",
   "name": "python",
   "nbconvert_exporter": "python",
   "pygments_lexer": "ipython3",
   "version": "3.9.7"
  }
 },
 "nbformat": 4,
 "nbformat_minor": 5
}
