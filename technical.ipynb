{
 "cells": [
  {
   "cell_type": "markdown",
   "metadata": {
    "slideshow": {
     "slide_type": "slide"
    }
   },
   "source": [
    "# Phase 2 Project: Technical Presentation of Price Predictor"
   ]
  },
  {
   "cell_type": "markdown",
   "metadata": {
    "slideshow": {
     "slide_type": "slide"
    }
   },
   "source": [
    "<img src=\"images/problem.jpg\" alt=\"drawing\" align=\"left\"  width=\"380\"/> \n",
    "\n",
    "## Overview  \n",
    "*  The goal of this project is to develop a predictive model for house pricing in King County.\n",
    "*  The model will estimate how the features of a house will affect its price.\n",
    "*  The price estimation tool may be benefitial for Real Estates Agencies and Developers, as well as individual sellers and buyers.\n"
   ]
  },
  {
   "cell_type": "markdown",
   "metadata": {
    "slideshow": {
     "slide_type": "slide"
    }
   },
   "source": [
    "# Objective\n",
    "\n",
    "*  Determining how multiple features work individually and together\n",
    "*  Quantifying joined features effect\n",
    "*  Building a predictive model\n",
    "*  Building a front end for a customer\n"
   ]
  },
  {
   "cell_type": "markdown",
   "metadata": {
    "slideshow": {
     "slide_type": "slide"
    }
   },
   "source": [
    "  <img src=\"images/solution.jpg\" alt=\"drawing\" align=\"right\"  width=\"350\"/> \n",
    "  \n",
    "# Solution\n",
    "\n",
    "*  Analyzing 2014-2015 dataset with past sales\n",
    "*  Identifying individual and joined factors.\n",
    "*  Prepairing features for the model\n",
    "*  Calculate all the features coefficients \n",
    "*  Testing the results\n",
    "\n"
   ]
  },
  {
   "cell_type": "markdown",
   "metadata": {
    "slideshow": {
     "slide_type": "slide"
    }
   },
   "source": [
    "# Data\n",
    "***\n",
    "#### King County house sales dataset contains:\n",
    "*  details for 22,000 sold houses\n",
    "*  final sales prices \n",
    "\n",
    "All the data is from 2014-2015 \n",
    "\n"
   ]
  },
  {
   "cell_type": "markdown",
   "metadata": {
    "slideshow": {
     "slide_type": "slide"
    }
   },
   "source": [
    "\n",
    "# Features Identified\n",
    "#### Main Features: \n",
    "* House Sq footage \n",
    "* Grade of design and materials quality\n",
    "* Zipcode\n",
    "* Waterfront\n",
    "* View\n",
    "\n"
   ]
  },
  {
   "cell_type": "markdown",
   "metadata": {
    "slideshow": {
     "slide_type": "slide"
    }
   },
   "source": [
    "## Additional Features: \n",
    "* Lot size\n",
    "* Basement\n",
    "* House Age\n",
    "#### Only marginal effect from:\n",
    "* Renovation, number of bedrooms, bathrooms, and floors  \n",
    "<br>\n",
    "<br>\n",
    "more on feature analysis - see \"analysis_and_regression/Investigation of Features.ipynb\"\n"
   ]
  },
  {
   "cell_type": "markdown",
   "metadata": {
    "slideshow": {
     "slide_type": "slide"
    }
   },
   "source": [
    "# Initial Data Load and Cleaning\n",
    "***\n",
    "* #### Loaded the \"kc_house_data.csv\" using \"initial_data_prep.py\"\n",
    "* #### filled or removed rows with missing properties \n",
    "* #### Construction Grade 3-5 (below the acceptable code) were removed\n",
    "* #### Out of 22,000 rows 20,880 were used in the model\n"
   ]
  },
  {
   "cell_type": "code",
   "execution_count": 1,
   "metadata": {
    "slideshow": {
     "slide_type": "slide"
    }
   },
   "outputs": [
    {
     "data": {
      "text/plain": [
       "(20880, 27)"
      ]
     },
     "execution_count": 1,
     "metadata": {},
     "output_type": "execute_result"
    }
   ],
   "source": [
    "## importing Libraries\n",
    "%run code/import_libs.py\n",
    "\n",
    "from sklearn.model_selection import train_test_split\n",
    "from sklearn.linear_model import LinearRegression\n",
    "from sklearn.metrics import mean_squared_error\n",
    "from sklearn.model_selection import cross_val_score\n",
    "%matplotlib inline\n",
    "\n",
    "## Importing Functions\n",
    "%run code/functions_v1.4.py\n",
    "\n",
    "## Loading and Initial preparation of the data (fillnulls, new features, filtering)\n",
    "%run code/initial_data_prep.py\n",
    "\n",
    "#FILTER grade\n",
    "df=df[~df[\"grade\"].isin([3,4,5])].copy()\n",
    "\n",
    "# SPLITTING DATA IN PREDICTORS(X) and price (Y)\n",
    "\n",
    "initial_pred = df.drop(columns=[\"price\"]).copy()\n",
    "initial_price = df[[\"price\"]]\n",
    "\n",
    "mean_price_2014_2015=initial_price.mean()[0]\n",
    "df.shape\n"
   ]
  },
  {
   "cell_type": "markdown",
   "metadata": {
    "slideshow": {
     "slide_type": "slide"
    }
   },
   "source": [
    "# Data Modeling\n",
    "#### An iterative approach to data modeling \n",
    "-  Calculating Efficiency for basic features  \n",
    "-  Prepairing model features\n",
    "-  Training multiple models\n",
    "-  Chosing the most efficient model \n",
    "-  Testing against different subset of data\n"
   ]
  },
  {
   "cell_type": "markdown",
   "metadata": {
    "slideshow": {
     "slide_type": "slide"
    }
   },
   "source": [
    "\n",
    "Steps:\n",
    "\n",
    "* Prepared data for modeling using custom \"transform_data\" function (see functions_v1.4.py)  \n",
    "\n",
    "\n",
    "* Created/trained model using statsmodels.OLS  \n",
    "\n",
    "\n",
    "* Made sure r-square is higher than 80%\n",
    "***\n"
   ]
  },
  {
   "cell_type": "code",
   "execution_count": 2,
   "metadata": {
    "slideshow": {
     "slide_type": "slide"
    }
   },
   "outputs": [
    {
     "name": "stdout",
     "output_type": "stream",
     "text": [
      "0.8812894359143344\n"
     ]
    }
   ],
   "source": [
    "# Create OLS linear model\n",
    "pred_fin, price_fin = transform_data(initial_pred, initial_price)\n",
    "\n",
    "pred_int = sm.add_constant(pred_fin)\n",
    "model = sm.OLS(price_fin,pred_int).fit()\n",
    "\n",
    "print(model.rsquared)\n",
    "coef_df=model.params.reset_index()\n",
    "coef_df.columns=[\"Column\",\"Value\"]\n"
   ]
  },
  {
   "cell_type": "markdown",
   "metadata": {
    "slideshow": {
     "slide_type": "slide"
    }
   },
   "source": [
    "### In addition to automatic -sklearn- methods, custom functions <br> were created to manually get all the coefficients from statsmodels OLS  <br> and calculate the linear slopes formula\n",
    "\n",
    "* used custom function \"calcuate_price\" and \"get_coeff\" to get coefficients from ols model (see functions_v1.4.py)"
   ]
  },
  {
   "cell_type": "code",
   "execution_count": 3,
   "metadata": {
    "slideshow": {
     "slide_type": "slide"
    }
   },
   "outputs": [],
   "source": [
    "\n",
    "\n",
    "#############################################################################\n",
    "def calculate_price (sqft_living, decade, basement, zipcode, grade, waterfront, view , sqft_lot,  \n",
    "                     mean_price, coef_df=coef_df, output='yes'):\n",
    " \n",
    "    if waterfront == 'NO' or not waterfront: \n",
    "        waterfront = 0\n",
    "    else: \n",
    "        waterfront = 1\n",
    "            \n",
    "    b0,b1,b2,b3,b4,b5,b6,b7,b8 = get_coeff( decade, zipcode, grade, waterfront, view, coef_df)\n",
    "    y=round( np.exp(b0 + b1*np.log(sqft_living) + b2*np.log(sqft_lot) + b3*basement + b4*waterfront + b5*grade + b6 + b7 + b8) )\n",
    "    \n",
    "    if output == 'yes': y=y*(mean_price/mean_price_2014_2015)\n",
    "    print('{:,.0f}'.format(y))\n",
    "    return y,b0,b1,b2,b3,b4,b5,b6,b7,b8\n",
    "####################################################################################\n"
   ]
  },
  {
   "cell_type": "markdown",
   "metadata": {
    "slideshow": {
     "slide_type": "slide"
    }
   },
   "source": [
    "# Creating UI forms"
   ]
  },
  {
   "cell_type": "code",
   "execution_count": 4,
   "metadata": {
    "slideshow": {
     "slide_type": "slide"
    }
   },
   "outputs": [],
   "source": [
    "## Importing Widgets Forms\n",
    "%run code/Build_Forms_v1.4.py\n",
    "\n",
    "inp={ 'view':viewW,'waterfront':waterW,\n",
    "    'zipcode': zipW, 'decade':decadeW, 'grade':gradeW, 'basement':basementW, \"mean_price\":meanW,\n",
    "    'sqft_living':livingW,'sqft_lot':lotW }\n",
    "\n",
    "output = widgets.interactive_output(calculate_price, inp )\n",
    "output.layout={'border': '3px solid green', 'width':'150px'}\n",
    "\n",
    "ui = widgets.VBox([form, output])\n",
    "\n",
    "\n"
   ]
  },
  {
   "cell_type": "markdown",
   "metadata": {
    "slideshow": {
     "slide_type": "slide"
    }
   },
   "source": [
    "# Building a Front End Tool:\n",
    "***\n",
    "* ipywidgets were used to create custom ui forms ( Build_Forms_v1.4.py )<br>  \n",
    "<br>\n",
    "* custom calculate_price function was linked to the input/output of the ui\n",
    "\n"
   ]
  },
  {
   "cell_type": "code",
   "execution_count": 5,
   "metadata": {
    "slideshow": {
     "slide_type": "fragment"
    }
   },
   "outputs": [
    {
     "data": {
      "application/vnd.jupyter.widget-view+json": {
       "model_id": "c385f9f74be34efe91508b5615621fc9",
       "version_major": 2,
       "version_minor": 0
      },
      "text/plain": [
       "VBox(children=(Box(box_style='success', children=(Box(children=(Text(value='Predicting House Sale Prices for K…"
      ]
     },
     "metadata": {},
     "output_type": "display_data"
    }
   ],
   "source": [
    "ui"
   ]
  },
  {
   "cell_type": "markdown",
   "metadata": {
    "slideshow": {
     "slide_type": "slide"
    }
   },
   "source": [
    "# Testing\n",
    "***\n",
    "\n",
    "We made sure the tool works as expected:\n",
    "* Multiple comparissons of predicted data against the actual data\n",
    "* Predicted price is within 90-110% of actual price (houses newer than 1980)\n",
    "* Predicted price is within 87-113% of actual price (houses older than 1980)\n",
    "***\n",
    "More deails about regression testing in  \"analysis_and_regression/Regression Tests.ipynb\""
   ]
  },
  {
   "cell_type": "markdown",
   "metadata": {
    "slideshow": {
     "slide_type": "slide"
    }
   },
   "source": [
    "# Conclusions\n",
    "***\n",
    "\n",
    "#### Considerations and Limitations:\n",
    "\n",
    "\n",
    "* The tool can be effective to estimate base price for known features\n",
    "* In the future a model should be re-trained with more up-to-date data\n",
    "* The presented prototype will be greatly improved by more advanced modeling\n"
   ]
  }
 ],
 "metadata": {
  "celltoolbar": "Slideshow",
  "kernelspec": {
   "display_name": "Python 3 (ipykernel)",
   "language": "python",
   "name": "python3"
  },
  "language_info": {
   "codemirror_mode": {
    "name": "ipython",
    "version": 3
   },
   "file_extension": ".py",
   "mimetype": "text/x-python",
   "name": "python",
   "nbconvert_exporter": "python",
   "pygments_lexer": "ipython3",
   "version": "3.9.7"
  }
 },
 "nbformat": 4,
 "nbformat_minor": 4
}
