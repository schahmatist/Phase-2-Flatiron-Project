{
 "cells": [
  {
   "cell_type": "code",
   "execution_count": 947,
   "id": "7a52e89c",
   "metadata": {},
   "outputs": [],
   "source": [
    "import warnings\n",
    "warnings.filterwarnings(action='ignore', category=UserWarning)\n",
    "warnings.filterwarnings(action='ignore', category=FutureWarning)\n",
    "\n",
    "import numpy as np\n",
    "import math\n",
    "import pandas as pd\n",
    "import itertools\n",
    "\n",
    "import seaborn as sns\n",
    "import matplotlib.pyplot as plt\n",
    "%matplotlib inline\n",
    "\n",
    "from scipy import stats\n",
    "import statsmodels.api as sm\n",
    "from statsmodels.formula.api import ols\n",
    "\n",
    "pd.set_option('display.max_rows', 200)\n",
    "pd.set_option('display.max_columns', 30)\n",
    "#pd.options.display.float_format = '{:,}'.format \n",
    "\n"
   ]
  },
  {
   "cell_type": "code",
   "execution_count": 948,
   "id": "5e64c369",
   "metadata": {},
   "outputs": [],
   "source": [
    "def enum_category(label):\n",
    "    num=0\n",
    "    if label == 'Poor' : num =1\n",
    "    elif label == 'Fair': num = 2\n",
    "    elif label == 'Average': num = 3\n",
    "    elif label == 'Good': num = 4\n",
    "    elif label == 'Very Good': num = 5\n",
    "    else: return label\n",
    "    \n",
    "    return int(num)\n",
    "\n",
    "def log_and_normalize (data, log, norm_type):\n",
    "    if log == 'log':\n",
    "        data = np.log(data) \n",
    "    if norm_type == 1:\n",
    "        data = (data-np.mean(data))/np.std(data)  # std normalisation\n",
    "    elif norm_type == 2:\n",
    "        data = (data-min(data))/(max(data)-min(data))      #  min_max_min\n",
    "    elif norm_type == 3:\n",
    "        data = (data-np.mean(data))/(max(data)-min(data))  # mean norm\n",
    "    \n",
    "    return data    \n",
    "\n",
    "def hot_encode (data, directions):\n",
    "    if directions == 'yes':\n",
    "        data = pd.get_dummies(data, prefix=data.name[:3], drop_first=True)\n",
    "    return data"
   ]
  },
  {
   "cell_type": "code",
   "execution_count": 967,
   "id": "0edd2f2e",
   "metadata": {},
   "outputs": [],
   "source": [
    "df=pd.read_csv('data/kc_house_data.csv', index_col=0)\n",
    "\n",
    "# initial cleaning operations (dropping columns, splitting , etc)\n",
    "df.drop(columns=[\"waterfront\",'view'],inplace=True)\n",
    "df[\"grade\"]=df[\"grade\"].map(lambda x: x.split()[0]).astype(int)\n",
    "df['condition'] = df['condition'].apply(enum_category)\n",
    "\n",
    "#FILTER\n",
    "#df=df[df['yr_built']>1961]\n",
    "None\n",
    "\n"
   ]
  },
  {
   "cell_type": "code",
   "execution_count": 999,
   "id": "02fb2d01",
   "metadata": {},
   "outputs": [],
   "source": [
    "# Prepairing data\n",
    "df.groupby('yr_renovated')['yr_renovated','yr_built'].count()\n",
    "\n",
    "df.drop(df.index[df[\"bedrooms\"]==33], inplace=True)\n",
    "\n",
    "df['renovated']=np.where((df['yr_renovated'].isna() |  df['yr_renovated'] == 0), 0, 1)\n",
    "df['yr_renovated'].fillna(value=df['yr_built'],inplace=True)\n",
    "df['yr_renovated'] = np.where(df['yr_renovated'] == 0, df['yr_built'], df['yr_renovated'])\n",
    "\n",
    "df['sqft_basement'].replace('?', '-1', inplace=True)\n",
    "df['sqft_basement']=df['sqft_basement'].astype(float).astype(int)\n",
    "\n",
    "df['sqft_basement'] = np.where((df['sqft_basement'] < 100) & (df['sqft_basement'] > 0), 0, df['sqft_basement'])\n",
    "df['sqft_basement']=np.where((df['sqft_basement']==-1) & (df['sqft_living']-df['sqft_above']<=400), \n",
    "                             0, df['sqft_basement'])\n",
    "df['sqft_basement']=np.where((df['sqft_basement']==-1) & (df['sqft_living']-df['sqft_above']>400) \n",
    "                             & (df['sqft_above']/df['sqft_living']<0.70),\n",
    "                             (df['sqft_living']-df['sqft_above'])*0.75/df['floors'], df['sqft_basement'])\n",
    "df['sqft_basement'] = np.where (df['sqft_basement'] == -1, 0, df['sqft_basement'])\n",
    "\n",
    "\n",
    "\n",
    "#NEW FEATURES\n",
    "\n",
    "df[\"age\"]=2016-df['yr_built']\n",
    "df[\"years_after_renovation\"]=2016-df['yr_renovated']\n",
    "\n",
    "\n"
   ]
  },
  {
   "cell_type": "code",
   "execution_count": 1010,
   "id": "f091bb39",
   "metadata": {},
   "outputs": [],
   "source": [
    "cont=[\"sqft_living\",'lat', 'yr_built']\n",
    "cont=[\"sqft_living\"]\n",
    "#cont=[\"sqft_living\",  'sqft_living15', 'sqft_lot15', 'lat']\n",
    "\n",
    "cat=[ 'grade']\n",
    "#cat=[ \"grade\",  'bedrooms',  'floors', 'condition','yr_built' ]\n",
    "\n",
    "data_fin=pd.DataFrame([])\n",
    "price=df[[\"price\"]]\n",
    "#num=df.select_dtypes(include=[np.number]).drop(\"price\", axis=1)"
   ]
  },
  {
   "cell_type": "code",
   "execution_count": 1011,
   "id": "0472d3b7",
   "metadata": {},
   "outputs": [],
   "source": [
    "# Log transform and normalize\n",
    "for col in cont:\n",
    "    data_fin[col]=log_and_normalize(df[col], 'nolog', 0)\n",
    "\n",
    "#data_fin[\"sqft_living\"]=log_and_normalize(df[\"sqft_living\"], 'log', 0)\n",
    "#data_fin[\"lat\"]=log_and_normalize(df[\"lat\"], 'nolog', 0)\n",
    "#data_fin[\"yr_built\"]=log_and_normalize(df[\"yr_built\"], 'nolog', 0)\n",
    "price=log_and_normalize(df[\"price\"], 'nolog', 0)"
   ]
  },
  {
   "cell_type": "code",
   "execution_count": 1012,
   "id": "1765a390",
   "metadata": {},
   "outputs": [],
   "source": [
    "# One hot encode categoricals\n",
    "for col in cat:\n",
    "    new_cols=hot_encode(df[col], 'yes')\n",
    "    data_fin = pd.concat([data_fin, new_cols], axis=1)\n"
   ]
  },
  {
   "cell_type": "code",
   "execution_count": 1013,
   "id": "664b5094",
   "metadata": {},
   "outputs": [],
   "source": [
    "data_fin = pd.concat([price, data_fin], axis=1)\n"
   ]
  },
  {
   "cell_type": "code",
   "execution_count": 1014,
   "id": "09a4cedc",
   "metadata": {
    "scrolled": false
   },
   "outputs": [
    {
     "data": {
      "text/plain": [
       "const          180,229.54893300688\n",
       "sqft_living     157.25086743652784\n",
       "gra_4          -75,274.76906202121\n",
       "gra_5          -86,334.51450958967\n",
       "gra_6          -65,687.03175175004\n",
       "gra_7          -43,340.34077110216\n",
       "gra_8          19,194.985484563746\n",
       "gra_9           142,491.1763307398\n",
       "gra_10          338,547.7175361569\n",
       "gra_11          626,374.7210010701\n",
       "gra_12         1,160,717.504542537\n",
       "gra_13        2,353,819.3445881126\n",
       "dtype: float64"
      ]
     },
     "execution_count": 1014,
     "metadata": {},
     "output_type": "execute_result"
    }
   ],
   "source": [
    "pd.options.display.float_format = '{:,}'.format \n",
    "\n",
    "pred=data_fin.drop(columns=[\"price\"]).copy()\n",
    "\n",
    "\n",
    "\n",
    "pred_int = sm.add_constant(pred)\n",
    "model = sm.OLS(price,pred_int).fit()\n",
    "model.params\n",
    "\n",
    "\n",
    "\n"
   ]
  },
  {
   "cell_type": "code",
   "execution_count": 989,
   "id": "9025b97e",
   "metadata": {},
   "outputs": [
    {
     "data": {
      "image/png": "[encoded data removed]",
      "text/plain": [
       "<Figure size 864x432 with 1 Axes>"
      ]
     },
     "metadata": {
      "needs_background": "light"
     },
     "output_type": "display_data"
    }
   ],
   "source": [
    "sales_pred = model.predict()\n",
    "sales_pred\n",
    "plt.figure(figsize=(12, 6))\n",
    "plt.plot(df['sqft_living'], df['price'], 'o')  \n",
    "#plt.plot(pred_int['sqft_living'], sales_pred, 'r', linewidth=2)\n",
    "plt.xlabel('Sq footage')\n",
    "plt.ylabel('Price')\n",
    "plt.show()"
   ]
  },
  {
   "cell_type": "code",
   "execution_count": 590,
   "id": "adb8e151",
   "metadata": {},
   "outputs": [
    {
     "data": {
      "text/html": [
       "<div>\n",
       "<style scoped>\n",
       "    .dataframe tbody tr th:only-of-type {\n",
       "        vertical-align: middle;\n",
       "    }\n",
       "\n",
       "    .dataframe tbody tr th {\n",
       "        vertical-align: top;\n",
       "    }\n",
       "\n",
       "    .dataframe thead th {\n",
       "        text-align: right;\n",
       "    }\n",
       "</style>\n",
       "<table border=\"1\" class=\"dataframe\">\n",
       "  <thead>\n",
       "    <tr style=\"text-align: right;\">\n",
       "      <th></th>\n",
       "      <th>0</th>\n",
       "      <th>1</th>\n",
       "    </tr>\n",
       "  </thead>\n",
       "  <tbody>\n",
       "    <tr>\n",
       "      <th>0</th>\n",
       "      <td>(sqft_living,)</td>\n",
       "      <td>0.48329173419094196</td>\n",
       "    </tr>\n",
       "    <tr>\n",
       "      <th>4</th>\n",
       "      <td>(gra_7,)</td>\n",
       "      <td>0.11481198045266239</td>\n",
       "    </tr>\n",
       "    <tr>\n",
       "      <th>7</th>\n",
       "      <td>(gra_10,)</td>\n",
       "      <td>0.11384937523653094</td>\n",
       "    </tr>\n",
       "    <tr>\n",
       "      <th>6</th>\n",
       "      <td>(gra_9,)</td>\n",
       "      <td>0.0958221369573512</td>\n",
       "    </tr>\n",
       "    <tr>\n",
       "      <th>3</th>\n",
       "      <td>(gra_6,)</td>\n",
       "      <td>0.09557742383049794</td>\n",
       "    </tr>\n",
       "    <tr>\n",
       "      <th>8</th>\n",
       "      <td>(gra_11,)</td>\n",
       "      <td>0.07968480899008434</td>\n",
       "    </tr>\n",
       "    <tr>\n",
       "      <th>9</th>\n",
       "      <td>(gra_12,)</td>\n",
       "      <td>0.032052595211412016</td>\n",
       "    </tr>\n",
       "    <tr>\n",
       "      <th>2</th>\n",
       "      <td>(gra_5,)</td>\n",
       "      <td>0.021431669881383897</td>\n",
       "    </tr>\n",
       "    <tr>\n",
       "      <th>5</th>\n",
       "      <td>(gra_8,)</td>\n",
       "      <td>0.01086820828788515</td>\n",
       "    </tr>\n",
       "    <tr>\n",
       "      <th>10</th>\n",
       "      <td>(gra_13,)</td>\n",
       "      <td>0.008471124546015063</td>\n",
       "    </tr>\n",
       "    <tr>\n",
       "      <th>1</th>\n",
       "      <td>(gra_4,)</td>\n",
       "      <td>0.00351436465510091</td>\n",
       "    </tr>\n",
       "  </tbody>\n",
       "</table>\n",
       "</div>"
      ],
      "text/plain": [
       "                 0                    1\n",
       "0   (sqft_living,)  0.48329173419094196\n",
       "4         (gra_7,)  0.11481198045266239\n",
       "7        (gra_10,)  0.11384937523653094\n",
       "6         (gra_9,)   0.0958221369573512\n",
       "3         (gra_6,)  0.09557742383049794\n",
       "8        (gra_11,)  0.07968480899008434\n",
       "9        (gra_12,) 0.032052595211412016\n",
       "2         (gra_5,) 0.021431669881383897\n",
       "5         (gra_8,)  0.01086820828788515\n",
       "10       (gra_13,) 0.008471124546015063\n",
       "1         (gra_4,)  0.00351436465510091"
      ]
     },
     "execution_count": 590,
     "metadata": {},
     "output_type": "execute_result"
    }
   ],
   "source": [
    "results=[]\n",
    "combs=data_fin.drop(\"price\", axis=1).columns\n",
    "#combs=num\n",
    "for comb in itertools.combinations(combs, 1):\n",
    "    test=data_fin[list(comb)].copy()\n",
    "    prep = sm.add_constant(test[list(comb)])\n",
    "    model = sm.OLS(price, prep).fit()\n",
    "    results.append([comb, model.rsquared_adj])\n",
    "\n",
    "pd.DataFrame(results).sort_values(1, ascending=False)\n",
    "\n"
   ]
  },
  {
   "cell_type": "code",
   "execution_count": null,
   "id": "47a9071e",
   "metadata": {},
   "outputs": [],
   "source": []
  },
  {
   "cell_type": "code",
   "execution_count": 754,
   "id": "678f2de2",
   "metadata": {},
   "outputs": [
    {
     "data": {
      "text/plain": [
       "0.7778779726116771"
      ]
     },
     "execution_count": 754,
     "metadata": {},
     "output_type": "execute_result"
    }
   ],
   "source": [
    "from sklearn.linear_model import LinearRegression\n",
    "linreg = LinearRegression()\n",
    "linreg.fit(pred,price)\n",
    "linreg.score(pred, price)"
   ]
  },
  {
   "cell_type": "code",
   "execution_count": 783,
   "id": "3afe6883",
   "metadata": {},
   "outputs": [],
   "source": [
    "from sklearn.model_selection import train_test_split\n",
    "from sklearn.linear_model import LinearRegression\n",
    "from sklearn.metrics import mean_squared_error\n",
    "\n",
    "pred_train, pred_test, price_train, price_test = train_test_split(pred, price, test_size=0.2)"
   ]
  },
  {
   "cell_type": "code",
   "execution_count": 784,
   "id": "4f61b75f",
   "metadata": {},
   "outputs": [
    {
     "data": {
      "text/plain": [
       "0.776782494188267"
      ]
     },
     "execution_count": 784,
     "metadata": {},
     "output_type": "execute_result"
    }
   ],
   "source": [
    "linreg = LinearRegression()\n",
    "linreg.fit(pred_train, price_train)\n",
    "linreg.score(pred_train, price_train)"
   ]
  },
  {
   "cell_type": "code",
   "execution_count": 785,
   "id": "d2487aec",
   "metadata": {},
   "outputs": [],
   "source": [
    "y_train = linreg.predict(pred_train)\n",
    "y_test = linreg.predict(pred_test)"
   ]
  },
  {
   "cell_type": "code",
   "execution_count": 786,
   "id": "46292a32",
   "metadata": {},
   "outputs": [],
   "source": [
    "train_residuals = y_train - price_train\n",
    "test_residuals = y_test - price_test"
   ]
  },
  {
   "cell_type": "code",
   "execution_count": 787,
   "id": "af792905",
   "metadata": {},
   "outputs": [
    {
     "name": "stdout",
     "output_type": "stream",
     "text": [
      "Train Mean Squarred Error: 0.05855477965607087\n",
      "Test Mean Squarred Error: 0.05656099812861376\n"
     ]
    }
   ],
   "source": [
    "mse_train = np.sum((price_train-y_train)**2)/len(price_train)\n",
    "mse_test = np.sum((price_test-y_test)**2)/len(price_test)\n",
    "print('Train Mean Squarred Error:', mse_train)\n",
    "print('Test Mean Squarred Error:', mse_test)"
   ]
  },
  {
   "cell_type": "code",
   "execution_count": 774,
   "id": "29d6cda5",
   "metadata": {},
   "outputs": [
    {
     "data": {
      "text/plain": [
       "0.059097189385764415"
      ]
     },
     "execution_count": 774,
     "metadata": {},
     "output_type": "execute_result"
    }
   ],
   "source": [
    "mse_train"
   ]
  },
  {
   "cell_type": "code",
   "execution_count": 777,
   "id": "2f5ee569",
   "metadata": {},
   "outputs": [
    {
     "name": "stdout",
     "output_type": "stream",
     "text": [
      "Train Mean Squarred Error: 0.059097189385764415\n",
      "Test Mean Squarred Error: 0.05440668311324934\n"
     ]
    }
   ],
   "source": [
    "train_mse = mean_squared_error(price_train, y_train)\n",
    "test_mse = mean_squared_error(price_test, y_test)\n",
    "print('Train Mean Squarred Error:', train_mse)\n",
    "print('Test Mean Squarred Error:', test_mse)"
   ]
  },
  {
   "cell_type": "code",
   "execution_count": null,
   "id": "c0d79ece",
   "metadata": {},
   "outputs": [],
   "source": []
  }
 ],
 "metadata": {
  "kernelspec": {
   "display_name": "Python 3 (ipykernel)",
   "language": "python",
   "name": "python3"
  },
  "language_info": {
   "codemirror_mode": {
    "name": "ipython",
    "version": 3
   },
   "file_extension": ".py",
   "mimetype": "text/x-python",
   "name": "python",
   "nbconvert_exporter": "python",
   "pygments_lexer": "ipython3",
   "version": "3.9.7"
  }
 },
 "nbformat": 4,
 "nbformat_minor": 5
}
