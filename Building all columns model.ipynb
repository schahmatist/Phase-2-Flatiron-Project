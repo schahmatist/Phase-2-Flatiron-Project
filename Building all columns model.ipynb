{
 "cells": [
  {
   "cell_type": "code",
   "execution_count": 7,
   "id": "7a52e89c",
   "metadata": {},
   "outputs": [],
   "source": [
    "import warnings\n",
    "warnings.filterwarnings(action='ignore', category=UserWarning)\n",
    "warnings.filterwarnings(action='ignore', category=FutureWarning)\n",
    "\n",
    "import numpy as np\n",
    "import math\n",
    "import pandas as pd\n",
    "import itertools\n",
    "\n",
    "import seaborn as sns\n",
    "import matplotlib.pyplot as plt\n",
    "import matplotlib.ticker as ticker\n",
    "%matplotlib inline\n",
    "\n",
    "from scipy import stats\n",
    "import statsmodels.api as sm\n",
    "from statsmodels.formula.api import ols\n",
    "\n",
    "pd.set_option('display.max_rows', 200)\n",
    "pd.set_option('display.max_columns', 30)\n",
    "#pd.options.display.float_format = '{:,}'.format \n",
    "\n",
    "\n",
    "\n"
   ]
  },
  {
   "cell_type": "code",
   "execution_count": 8,
   "id": "5e64c369",
   "metadata": {},
   "outputs": [],
   "source": [
    "def enum_category(label):\n",
    "    num=0\n",
    "    if label == 'Poor' : num =1\n",
    "    elif label == 'Fair': num = 2\n",
    "    elif label == 'Average': num = 3\n",
    "    elif label == 'Good': num = 4\n",
    "    elif label == 'Very Good': num = 5\n",
    "    else: return label\n",
    "    \n",
    "    return int(num)\n",
    "\n",
    "def log_and_normalize (data, log, norm_type):\n",
    "    if log == 'log':\n",
    "        data = np.log(data) \n",
    "    if norm_type == 1:\n",
    "        data = (data-np.mean(data))/np.std(data)  # std normalisation\n",
    "    elif norm_type == 2:\n",
    "        data = (data-min(data))/(max(data)-min(data))      #  min_max_min\n",
    "    elif norm_type == 3:\n",
    "        data = (data-np.mean(data))/(max(data)-min(data))  # mean norm\n",
    "    \n",
    "    return data    \n",
    "\n",
    "def hot_encode (data, directions):\n",
    "    if directions == 'yes':\n",
    "        data = pd.get_dummies(data, prefix=data.name[:3], drop_first=True)\n",
    "    return data"
   ]
  },
  {
   "cell_type": "code",
   "execution_count": 9,
   "id": "0edd2f2e",
   "metadata": {},
   "outputs": [],
   "source": [
    "df=pd.read_csv('data/kc_house_data.csv', index_col=0)\n",
    "\n",
    "# initial cleaning operations (dropping columns, splitting , etc)\n",
    "#df.drop(columns=[\"waterfront\",'view'],inplace=True)\n",
    "#df.drop(columns=[\"waterfront\"],inplace=True)\n",
    "\n",
    "df[\"grade\"]=df[\"grade\"].map(lambda x: x.split()[0]).astype(int)\n",
    "df['condition'] = df['condition'].apply(enum_category)\n",
    "\n",
    "\n"
   ]
  },
  {
   "cell_type": "code",
   "execution_count": 10,
   "id": "02fb2d01",
   "metadata": {},
   "outputs": [],
   "source": [
    "# Prepairing data\n",
    "#df.drop(df.index[df[\"bedrooms\"]==33], inplace=True)\n",
    "\n",
    "df['renovated']=np.where((df['yr_renovated'].isna() |  df['yr_renovated'] == 0), 0, 1)\n",
    "df['yr_renovated'].fillna(value=df['yr_built'],inplace=True)\n",
    "df['yr_renovated'] = np.where(df['yr_renovated'] == 0, df['yr_built'], df['yr_renovated'])\n",
    "\n",
    "df['waterfront'].fillna(value='NO',inplace=True)\n",
    "\n",
    "\n",
    "\n",
    "\n",
    "#df['sqft_basement'].replace('?', '0', inplace=True)\n",
    "df=df[df['sqft_basement'] != '?']\n",
    "df['sqft_basement']=df['sqft_basement'].astype(float).astype(int)\n",
    "df['basement']= np.where(df['sqft_basement'] < 30, 0, 1)\n",
    "\n",
    "\n",
    "df['sqft_basement'] = np.where((df['sqft_basement'] < 100) & (df['sqft_basement'] > -1), 1, df['sqft_basement'])\n",
    "df['sqft_basement']=np.where((df['sqft_basement']==-1) & (df['sqft_living']-df['sqft_above']<=400), \n",
    "                             1, df['sqft_basement'])\n",
    "df['sqft_basement']=np.where((df['sqft_basement']==-1) & (df['sqft_living']-df['sqft_above']>400) \n",
    "                             & (df['sqft_above']/df['sqft_living']<0.70),\n",
    "                             (df['sqft_living']-df['sqft_above'])*0.75/df['floors'], df['sqft_basement'])\n",
    "df['sqft_basement'] = np.where (df['sqft_basement'] == -1, 1, df['sqft_basement'])\n",
    "\n",
    "\n",
    "\n",
    "#NEW FEATURES\n",
    "\n",
    "df[\"age\"]=2016-df['yr_built']\n",
    "df[\"years_after_renovation\"]=2016-df['yr_renovated']\n",
    "df['month_of_sale']=df['date'].apply(lambda x: str.split(x,'/')[0]).astype(int)\n",
    "\n",
    "df['after_1980']= np.where(df['yr_built'] >= 1980, 1, 0)\n",
    "df['before_1940']= np.where(df['yr_built'] <= 1940, 1, 0)\n",
    "\n",
    "\n",
    "df['same_living_sqft']=(df['sqft_living']-df['sqft_living15'])/df['sqft_living'] \n",
    "df['same_lot_sqft']=(df['sqft_lot']-df['sqft_lot15'])/df['sqft_lot'] \n",
    "\n",
    "\n",
    "\n",
    "df['lat_range']=pd.cut(df['lat'], 30)\n",
    "df['long_range']=pd.cut(df['long'], 30)\n",
    "df['coord_range']=np.array(zip(df['lat_range'],df['long_range']))\n",
    "df['decade']=pd.cut(df['yr_built'], 12)\n",
    "\n",
    "\n",
    "#FILTER\n",
    "#df=df[df['yr_built']>1980]\n",
    "#df=df[df['price']<3000000].copy()\n",
    "df=df[df['sqft_living']<7000].copy()\n",
    "df=df[df['sqft_lot']<100000].copy()\n",
    "df=df[~df[\"grade\"].isin([3,4,5])]\n",
    "\n"
   ]
  },
  {
   "cell_type": "code",
   "execution_count": 11,
   "id": "d3944d44",
   "metadata": {},
   "outputs": [
    {
     "data": {
      "image/png": "[encoded data removed]",
      "text/plain": [
       "<Figure size 576x576 with 1 Axes>"
      ]
     },
     "metadata": {
      "needs_background": "light"
     },
     "output_type": "display_data"
    }
   ],
   "source": [
    "\n",
    "#df['sqft_lot'].max()\n",
    "#df['sqft_lot'].hist(figsize=(8,10), bins=50);\n",
    "\n",
    "fig,ax = plt.subplots(figsize = (8,8))\n",
    "ax.get_xaxis().set_major_formatter(ticker.FuncFormatter(lambda x, p: format(int(x), ',')))\n",
    "ax.get_yaxis().set_major_formatter(ticker.FuncFormatter(lambda x, p: format(int(x), ',')))\n",
    "ax.hist(df['sqft_lot'], bins=200);\n"
   ]
  },
  {
   "cell_type": "code",
   "execution_count": 12,
   "id": "f091bb39",
   "metadata": {},
   "outputs": [],
   "source": [
    "#num=df.select_dtypes(include=[np.number]).drop(\"price\", axis=1)\n",
    "price=df[[\"price\"]]\n",
    "\n",
    "other=[]\n",
    "#cont=[\"sqft_living\", 'sqft_lot', 'sqft_living15']\n",
    "cont=[\"sqft_living\", 'sqft_lot', 'sqft_living15']\n",
    "\n",
    "cat=[ \"grade\", 'zipcode', 'yr_built','waterfront','view']\n",
    "\n",
    "\n",
    "#cont=[\"sqft_living\"]\n",
    "#cat=[ 'grade', 'zipcode', 'view', 'waterfront','yr_built']\n",
    "\n",
    "\n",
    "data_fin=pd.DataFrame([])\n",
    "\n",
    "\n",
    "asis=df[other]\n",
    "\n"
   ]
  },
  {
   "cell_type": "code",
   "execution_count": 13,
   "id": "0472d3b7",
   "metadata": {},
   "outputs": [],
   "source": [
    "# Log transform and normalize\n",
    "for col in cont:\n",
    "    data_fin[col]=log_and_normalize(df[col], 'log', 0)\n",
    "\n",
    "data_fin[\"sqft_living\"]=log_and_normalize(df[\"sqft_living\"], 'nolog', 0)\n",
    "data_fin[\"sqft_lot\"]=log_and_normalize(df[\"sqft_lot\"], 'log', 0)\n",
    "data_fin[\"condition\"]=log_and_normalize(df[\"condition\"], 'log', 0)\n",
    "price=log_and_normalize(price, 'log', 0)"
   ]
  },
  {
   "cell_type": "code",
   "execution_count": 14,
   "id": "1765a390",
   "metadata": {},
   "outputs": [],
   "source": [
    "# One hot encode categoricals\n",
    "for col in cat:\n",
    "    new_cols=hot_encode(df[col], 'yes')\n",
    "    data_fin = pd.concat([data_fin, new_cols], axis=1)\n"
   ]
  },
  {
   "cell_type": "code",
   "execution_count": 15,
   "id": "664b5094",
   "metadata": {},
   "outputs": [],
   "source": [
    "data_fin = pd.concat([price, data_fin, asis], axis=1)\n",
    "\n",
    "#pd.plotting.scatter_matrix(data_fin,figsize  = [14, 14]);\n"
   ]
  },
  {
   "cell_type": "code",
   "execution_count": 16,
   "id": "09a4cedc",
   "metadata": {
    "scrolled": false
   },
   "outputs": [
    {
     "data": {
      "text/plain": [
       "0.8848426043697"
      ]
     },
     "execution_count": 16,
     "metadata": {},
     "output_type": "execute_result"
    }
   ],
   "source": [
    "#Create OLS MODEL\n",
    "\n",
    "pred=data_fin.drop(columns=[\"price\"]).copy()\n",
    "\n",
    "pred_int = sm.add_constant(pred)\n",
    "model = sm.OLS(price,pred_int).fit()\n",
    "model.rsquared_adj\n",
    "\n",
    "\n",
    "\n"
   ]
  },
  {
   "cell_type": "code",
   "execution_count": 17,
   "id": "59727af4",
   "metadata": {},
   "outputs": [
    {
     "data": {
      "image/png": "[encoded data removed]",
      "text/plain": [
       "<Figure size 864x432 with 1 Axes>"
      ]
     },
     "metadata": {
      "needs_background": "light"
     },
     "output_type": "display_data"
    }
   ],
   "source": [
    "sales_pred = model.predict()\n",
    "sales_pred\n",
    "plt.figure(figsize=(12, 6))\n",
    "plt.plot(df['sqft_living'], df['price'], 'o')  \n",
    "#plt.plot(pred_int['sqft_living'], sales_pred, 'r', linewidth=2)\n",
    "plt.xlabel('Sq footage')\n",
    "plt.ylabel('Price')\n",
    "plt.show()"
   ]
  },
  {
   "cell_type": "code",
   "execution_count": 18,
   "id": "adb8e151",
   "metadata": {},
   "outputs": [],
   "source": [
    "#results=[]\n",
    "#combs=data_fin.drop(\"price\", axis=1).columns\n",
    "##combs=num\n",
    "#for comb in itertools.combinations(combs, 1):\n",
    "#    test=data_fin[list(comb)].copy()\n",
    "#    prep = sm.add_constant(test[list(comb)])\n",
    "#    model = sm.OLS(price, prep).fit()\n",
    "#    results.append([comb, model.rsquared_adj])\n",
    "#\n",
    "#pd.DataFrame(results).sort_values(1, ascending=False)\n",
    "\n"
   ]
  },
  {
   "cell_type": "code",
   "execution_count": null,
   "id": "47a9071e",
   "metadata": {},
   "outputs": [],
   "source": []
  },
  {
   "cell_type": "code",
   "execution_count": 74,
   "id": "678f2de2",
   "metadata": {},
   "outputs": [
    {
     "data": {
      "text/plain": [
       "0.8837133416889124"
      ]
     },
     "execution_count": 74,
     "metadata": {},
     "output_type": "execute_result"
    }
   ],
   "source": [
    "from sklearn.linear_model import LinearRegression\n",
    "linreg = LinearRegression()\n",
    "linreg.fit(pred,price)\n",
    "linreg.score(pred, price)"
   ]
  },
  {
   "cell_type": "code",
   "execution_count": 75,
   "id": "3afe6883",
   "metadata": {},
   "outputs": [],
   "source": [
    "from sklearn.model_selection import train_test_split\n",
    "from sklearn.linear_model import LinearRegression\n",
    "from sklearn.metrics import mean_squared_error\n",
    "\n",
    "pred_train, pred_test, price_train, price_test = train_test_split(pred, price, test_size=0.3)"
   ]
  },
  {
   "cell_type": "code",
   "execution_count": 76,
   "id": "4f61b75f",
   "metadata": {},
   "outputs": [
    {
     "data": {
      "text/plain": [
       "0.8838291239702816"
      ]
     },
     "execution_count": 76,
     "metadata": {},
     "output_type": "execute_result"
    }
   ],
   "source": [
    "linreg = LinearRegression()\n",
    "linreg.fit(pred_train, price_train)\n",
    "linreg.score(pred_train, price_train)"
   ]
  },
  {
   "cell_type": "code",
   "execution_count": 77,
   "id": "a7a308cc",
   "metadata": {},
   "outputs": [],
   "source": [
    "y_train = linreg.predict(pred_train)\n",
    "y_test = linreg.predict(pred_test)"
   ]
  },
  {
   "cell_type": "code",
   "execution_count": 78,
   "id": "46292a32",
   "metadata": {},
   "outputs": [],
   "source": [
    "#train_residuals = y_train - price_train\n",
    "#test_residuals = y_test - price_test"
   ]
  },
  {
   "cell_type": "code",
   "execution_count": 79,
   "id": "af792905",
   "metadata": {},
   "outputs": [],
   "source": [
    "#mse_train = np.sum((price_train-y_train)**2)/len(price_train)\n",
    "#mse_test = np.sum((price_test-y_test)**2)/len(price_test)\n",
    "#print('Train Mean Squarred Error:', mse_train)\n",
    "#print('Test Mean Squarred Error:', mse_test)"
   ]
  },
  {
   "cell_type": "code",
   "execution_count": 80,
   "id": "3ffc960c",
   "metadata": {},
   "outputs": [],
   "source": [
    "#mse_train"
   ]
  },
  {
   "cell_type": "code",
   "execution_count": 81,
   "id": "914207f0",
   "metadata": {},
   "outputs": [
    {
     "name": "stdout",
     "output_type": "stream",
     "text": [
      "Train Mean Squarred Error: 0.03229826412063358\n",
      "Test Mean Squarred Error: 0.032462632025625805\n"
     ]
    }
   ],
   "source": [
    "train_mse = mean_squared_error(price_train, y_train)\n",
    "test_mse = mean_squared_error(price_test, y_test)\n",
    "print('Train Mean Squarred Error:', train_mse)\n",
    "print('Test Mean Squarred Error:', test_mse)"
   ]
  },
  {
   "cell_type": "code",
   "execution_count": 86,
   "id": "2284cc57",
   "metadata": {},
   "outputs": [],
   "source": [
    "from sklearn.metrics import mean_squared_error\n",
    "from sklearn.model_selection import cross_val_score\n",
    "\n",
    "cv_5_results  = np.mean(cross_val_score(linreg, pred, price, cv=5,  scoring='neg_mean_squared_error'))\n",
    "cv_10_results = np.mean(cross_val_score(linreg, pred, price, cv=10, scoring='neg_mean_squared_error'))\n",
    "cv_20_results = np.mean(cross_val_score(linreg, pred, price, cv=20, scoring='neg_mean_squared_error'))\n"
   ]
  },
  {
   "cell_type": "code",
   "execution_count": 87,
   "id": "a78681a2",
   "metadata": {},
   "outputs": [
    {
     "name": "stdout",
     "output_type": "stream",
     "text": [
      "-5.059813702472261e+22 -8416062646724.065 -1567120185924.8823\n"
     ]
    }
   ],
   "source": [
    "print(cv_5_results, cv_10_results, cv_20_results)"
   ]
  },
  {
   "cell_type": "code",
   "execution_count": null,
   "id": "846727f2",
   "metadata": {},
   "outputs": [],
   "source": []
  }
 ],
 "metadata": {
  "kernelspec": {
   "display_name": "Python 3 (ipykernel)",
   "language": "python",
   "name": "python3"
  },
  "language_info": {
   "codemirror_mode": {
    "name": "ipython",
    "version": 3
   },
   "file_extension": ".py",
   "mimetype": "text/x-python",
   "name": "python",
   "nbconvert_exporter": "python",
   "pygments_lexer": "ipython3",
   "version": "3.9.7"
  }
 },
 "nbformat": 4,
 "nbformat_minor": 5
}
