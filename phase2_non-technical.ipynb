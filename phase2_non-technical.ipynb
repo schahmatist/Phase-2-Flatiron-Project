{
 "cells": [
  {
   "cell_type": "markdown",
   "metadata": {
    "slideshow": {
     "slide_type": "skip"
    }
   },
   "source": [
    "# Phase 2 Project: Non-Technical Presentation of Price Predictor"
   ]
  },
  {
   "cell_type": "code",
   "execution_count": 3,
   "metadata": {
    "slideshow": {
     "slide_type": "skip"
    }
   },
   "outputs": [],
   "source": [
    "%run code/import_libs.py\n",
    "#%run code/functions.py\n",
    "%run code/functions_v1.1.py\n",
    "%run code/Build_Forms_v1.1.py\n",
    "%run code/initial_data_prep.py\n",
    "\n",
    "%matplotlib inline\n",
    "\n",
    "initial_pred = df.drop(columns=[\"price\"]).copy()\n",
    "initial_price = df[[\"price\"]]\n",
    "\n",
    "mean_price_2014_2015=initial_price.mean()[0]\n",
    "\n",
    "\n",
    "pred_fin, price_fin = transform_data(initial_pred, initial_price)\n",
    "\n",
    "# Create OLS linear model\n",
    "pred_int = sm.add_constant(pred_fin)\n",
    "model = sm.OLS(price_fin,pred_int).fit()\n",
    "model.rsquared_adj\n",
    "\n",
    "\n",
    "coef_df=model.params.reset_index()\n",
    "coef_df.columns=[\"Column\",\"Value\"]\n",
    "\n",
    "\n",
    "def calculate_price (sqft_living, yr_built, zipcode, grade, waterfront, view , sqft_lot,  mean_price, coef_df=coef_df):\n",
    "    if view == '-':\n",
    "        view='NONE'\n",
    "\n",
    "    if waterfront:\n",
    "        waterfront='WATERFRONT'\n",
    "    else:\n",
    "        waterfront='NONE'\n",
    "\n",
    "    b0,b1,b2,b3,b4,b5,b6,b7 = get_coeff( yr_built,zipcode,grade, waterfront, view, coef_df)\n",
    "    y=round( np.exp(b0 + b1*np.log(sqft_living) + b2 + b3 + b4 + b5 + b6 + b7*np.log(sqft_lot)) )\n",
    "    \n",
    "    y=y*(mean_price/mean_price_2014_2015)\n",
    "    print('{:,.0f}'.format(y))\n",
    "    return y,b0,b1,b2,b3,b4,b5,b6,b7\n",
    "\n",
    "\n",
    "title=form_items[0].children[0]\n",
    "meanW=form_items[1].children[0]\n",
    "zipW=form_items[2].children[1]\n",
    "yearW=form_items[2].children[2]\n",
    "gradeW=form_items[3].children[1]\n",
    "livingW=form_items[4].children[1]\n",
    "lotW=form_items[5].children[1]\n",
    "viewW=form_items[6].children[1]\n",
    "waterW=form_items[6].children[2]\n",
    "\n",
    "output = widgets.interactive_output(calculate_price, {'mean_price' : meanW,\n",
    "    'zipcode': zipW, 'yr_built':yearW, 'grade':gradeW,\n",
    "    'sqft_living':livingW,'sqft_lot':lotW,'view':viewW,'waterfront':waterW } )\n",
    "\n",
    "      \n",
    "ui = widgets.VBox([form, output])\n",
    "\n",
    "output.layout={'border': '3px solid green', 'width':'150px'}\n",
    "\n",
    "#predictor=display(ui)\n",
    "\n"
   ]
  },
  {
   "cell_type": "markdown",
   "metadata": {
    "slideshow": {
     "slide_type": "slide"
    }
   },
   "source": [
    "\n",
    "<img src=\"images/Home.jpg\" alt=\"drawing\" align=\"center\"  width=\"450\"/>  \n",
    "\n",
    "#  Price Estimation and Analysis <br> for King County Houses\n",
    "\n",
    "**Authors:** Dmitriy Fisch\n"
   ]
  },
  {
   "cell_type": "markdown",
   "metadata": {
    "slideshow": {
     "slide_type": "slide"
    }
   },
   "source": [
    "## Overview\n",
    "\n",
    "&emsp;&emsp; Our objective is to identify key factors which affect house pricing <br> &emsp;&emsp;   in King County\n",
    "and use those factors in house price prediction. <br>\n",
    "\n"
   ]
  },
  {
   "cell_type": "markdown",
   "metadata": {
    "slideshow": {
     "slide_type": "slide"
    }
   },
   "source": [
    "## How can we estimate a fair price in a growing <br> Real Estate market?\n",
    "\n",
    "Per [Seattle Met Staff](https://www.seattlemet.com/home-and-real-estate/2022/01/how-expensive-is-a-house-in-seattle-bellevue-redmond-washington) article (Jan 2022):\n",
    "- #### In 2012 an average price of a house in King County was \\$424,000\n",
    "- #### By 2020, prices rose significantly—to \\$880,000! \n",
    "- #### In 2021 it is \\$1,055,632. \n",
    "<img src=\"images/seatle_met.png\" alt=\"drawing\" align=\"right\"  width=\"300\" />\n"
   ]
  },
  {
   "cell_type": "markdown",
   "metadata": {
    "slideshow": {
     "slide_type": "slide"
    }
   },
   "source": [
    "**Knowing the average is not enough!**"
   ]
  },
  {
   "cell_type": "markdown",
   "metadata": {
    "slideshow": {
     "slide_type": "fragment"
    }
   },
   "source": [
    "  <img src=\"images/calculate.jpg\" alt=\"drawing\" align=\"right\"  width=\"300\" height=\"300\"/>\n",
    " \n",
    " #  The Main Three Price Factors <br>\n",
    " ***\n",
    "  * Location (zipcode)\n",
    "  <br>\n",
    "  * Quality of materials, construction and design (grade)\n",
    "  <br>\n",
    "  * Square Footage (not counting a basement)  \n",
    "  "
   ]
  },
  {
   "cell_type": "markdown",
   "metadata": {
    "slideshow": {
     "slide_type": "slide"
    }
   },
   "source": [
    "<img src=\"images/location-location-location-1.png\" alt=\"drawing\" align=\"right\"  width=\"300\"/>\n",
    "\n",
    "### Location is important!\n",
    "&nbsp;&nbsp;&nbsp;&nbsp;Based on a zipcode average sq. ft. price can increase 300%!"
   ]
  },
  {
   "cell_type": "markdown",
   "metadata": {
    "slideshow": {
     "slide_type": "fragment"
    }
   },
   "source": [
    " <img src=\"images/by_zipcode.png\" alt=\"drawing\" align=\"left\"  width=\"1200\"/>"
   ]
  },
  {
   "cell_type": "markdown",
   "metadata": {
    "slideshow": {
     "slide_type": "slide"
    }
   },
   "source": [
    "<img src=\"images/Interior.jpg\" alt=\"drawing\" align=\"right\"  width=\"300\"/> \n",
    "\n",
    "#### Quality is important! \n",
    "Price per square foot doubles when comparing \n",
    "   lowest and highest construction grades  </li> "
   ]
  },
  {
   "cell_type": "markdown",
   "metadata": {
    "slideshow": {
     "slide_type": "fragment"
    }
   },
   "source": [
    " </font>  </body> \n",
    "   <img src=\"images/by_grade.png\" alt=\"drawing\" align=\"left\"  width=\"1000\"/>"
   ]
  },
  {
   "cell_type": "markdown",
   "metadata": {
    "slideshow": {
     "slide_type": "slide"
    }
   },
   "source": [
    "\n",
    "   \n",
    "  <img src=\"images/size_matters.jpg\" alt=\"drawing\" align=\"right\"  width=\"300\"/> \n",
    "<body> &emsp; <font size=\"5\"> <h2> Size does matter! </h2> <br>\n",
    "   <li>   Larger houses as expected are sold  for more money. </li>  </font>  </body> \n",
    "   <img src=\"images/by_size.png\" alt=\"drawing\" align=\"left\"  width=\"1200\"/>\n",
    "   \n",
    "   "
   ]
  },
  {
   "cell_type": "markdown",
   "metadata": {
    "slideshow": {
     "slide_type": "slide"
    }
   },
   "source": [
    "  <img src=\"images/nice_view.jpg\" alt=\"drawing\" align=\"right\"  width=\"400\"/> \n",
    "  \n",
    "  # Other Important Features <br>\n",
    "\n",
    "  * #### View\n",
    "  * #### Frontage along the water\n",
    "  <br> \n",
    "  * more...\n",
    "  "
   ]
  },
  {
   "cell_type": "markdown",
   "metadata": {
    "slideshow": {
     "slide_type": "slide"
    }
   },
   "source": [
    "# Too many factors?\n",
    "***\n",
    "Challenges:\n",
    "*  How multiple features above work togeter?\n",
    "*  Quantifying joined features effect\n",
    "*  Building a predictive model\n",
    "* Building a front end for a customer\n",
    "\n",
    "\n"
   ]
  },
  {
   "cell_type": "markdown",
   "metadata": {
    "slideshow": {
     "slide_type": "slide"
    }
   },
   "source": [
    "# Solution\n",
    "\n",
    "*  Analyzing 2014-2015 dataset with past sales\n",
    "*  Identifying individual and joined factors.\n",
    "*  Prepairing features for the model\n",
    "*  Using the model to calculate all the features coefficients \n",
    "*  Testing the results\n",
    "\n"
   ]
  },
  {
   "cell_type": "markdown",
   "metadata": {
    "slideshow": {
     "slide_type": "slide"
    }
   },
   "source": [
    "# Data\n",
    "***\n",
    "#### King County house sales dataset contains:\n",
    "*  details for 22,000 sold houses\n",
    "*  final sales prices \n",
    "\n",
    "All the data is from 2014-2015 \n",
    "\n"
   ]
  },
  {
   "cell_type": "markdown",
   "metadata": {
    "slideshow": {
     "slide_type": "slide"
    }
   },
   "source": [
    "\n",
    "# Features Identified\n",
    "#### Main Features: \n",
    "* House Sq footage \n",
    "* Grade of design and materials quality\n",
    "* Zipcode\n",
    "* Waterfront\n",
    "* View\n",
    "\n"
   ]
  },
  {
   "cell_type": "markdown",
   "metadata": {
    "slideshow": {
     "slide_type": "slide"
    }
   },
   "source": [
    "## Additional Features: \n",
    "* Lot size\n",
    "* basement\n",
    "\n",
    "#### Only marginal effect from:\n",
    "* Number of bedrooms, bathrooms, and floors"
   ]
  },
  {
   "cell_type": "markdown",
   "metadata": {
    "slideshow": {
     "slide_type": "slide"
    }
   },
   "source": [
    "# Data Modeling\n",
    "#### An iterative approach to data modeling \n",
    "-  Calculated Efficiency for basic features  \n",
    "-  Transformed basic features to be ready for the modeling\n",
    "-  Trained a model using subset of data\n",
    "-  Chose the most efficient model based on transformed features\n",
    "-  Tested the chosen model against different subsets of data\n"
   ]
  },
  {
   "cell_type": "markdown",
   "metadata": {
    "slideshow": {
     "slide_type": "slide"
    }
   },
   "source": [
    "#### Building a Front End Tool:"
   ]
  },
  {
   "cell_type": "code",
   "execution_count": 6,
   "metadata": {
    "slideshow": {
     "slide_type": "fragment"
    }
   },
   "outputs": [
    {
     "data": {
      "application/vnd.jupyter.widget-view+json": {
       "model_id": "a82564150cdd4dc1aafd943355d59cfd",
       "version_major": 2,
       "version_minor": 0
      },
      "text/plain": [
       "VBox(children=(Box(box_style='success', children=(Box(children=(Text(value='Predicting House Sale Prices for K…"
      ]
     },
     "metadata": {},
     "output_type": "display_data"
    }
   ],
   "source": [
    "display(ui)"
   ]
  },
  {
   "cell_type": "markdown",
   "metadata": {
    "slideshow": {
     "slide_type": "slide"
    }
   },
   "source": [
    "# Testing\n",
    "***\n",
    "\n",
    "We made sure the tool works as expected:\n",
    "* Multiple comparissons of predicted data against the actual data\n",
    "* Predicted price is within 90-110% of actual price (houses newer than 1980)\n",
    "* Predicted price is within 85-115% of actual price (houses older than 1980)\n",
    "***"
   ]
  },
  {
   "cell_type": "markdown",
   "metadata": {
    "slideshow": {
     "slide_type": "slide"
    }
   },
   "source": [
    "# Conclusions\n",
    "***\n",
    "\n",
    "#### Considerations and Limitations:\n",
    "\n",
    "\n",
    "* The tool can be effective to estimate base price for known features\n",
    "* In the future a model should be re-trained with more up-to-date data\n",
    "* The presented prototype will be greatly improved by more advanced modeling\n"
   ]
  }
 ],
 "metadata": {
  "celltoolbar": "Slideshow",
  "kernelspec": {
   "display_name": "Python 3 (ipykernel)",
   "language": "python",
   "name": "python3"
  },
  "language_info": {
   "codemirror_mode": {
    "name": "ipython",
    "version": 3
   },
   "file_extension": ".py",
   "mimetype": "text/x-python",
   "name": "python",
   "nbconvert_exporter": "python",
   "pygments_lexer": "ipython3",
   "version": "3.9.7"
  }
 },
 "nbformat": 4,
 "nbformat_minor": 4
}
