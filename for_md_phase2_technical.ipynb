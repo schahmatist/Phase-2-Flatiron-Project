{
 "cells": [
  {
   "cell_type": "markdown",
   "metadata": {
    "slideshow": {
     "slide_type": "slide"
    }
   },
   "source": [
    "# Phase 2 Project: Technical Presentation of Price Predictor"
   ]
  },
  {
   "cell_type": "markdown",
   "metadata": {
    "slideshow": {
     "slide_type": "slide"
    }
   },
   "source": [
    "<img src=\"images/problem.jpg\" alt=\"drawing\" align=\"right\"  width=\"380\"/> \n",
    "\n",
    "# Objectives\n",
    "\n",
    "*  How multiple features work together?\n",
    "*  Quantifying joined features effect\n",
    "*  Building a predictive model\n",
    "* Building a front end for a customer\n",
    "\n",
    "\n"
   ]
  },
  {
   "cell_type": "markdown",
   "metadata": {
    "slideshow": {
     "slide_type": "slide"
    }
   },
   "source": [
    "  <img src=\"images/solution.jpg\" alt=\"drawing\" align=\"right\"  width=\"350\"/> \n",
    "  \n",
    "# Solution\n",
    "\n",
    "*  Analyzing 2014-2015 dataset with past sales\n",
    "*  Identifying individual and joined factors.\n",
    "*  Prepairing features for the model\n",
    "*  Calculate all the features coefficients \n",
    "*  Testing the results\n",
    "\n"
   ]
  },
  {
   "cell_type": "markdown",
   "metadata": {
    "slideshow": {
     "slide_type": "slide"
    }
   },
   "source": [
    "# Data\n",
    "***\n",
    "#### King County house sales dataset contains:\n",
    "*  details for 22,000 sold houses\n",
    "*  final sales prices \n",
    "\n",
    "All the data is from 2014-2015 \n",
    "\n"
   ]
  },
  {
   "cell_type": "markdown",
   "metadata": {
    "slideshow": {
     "slide_type": "slide"
    }
   },
   "source": [
    "\n",
    "# Features Identified\n",
    "#### Main Features: \n",
    "* House Sq footage \n",
    "* Grade of design and materials quality\n",
    "* Zipcode\n",
    "* Waterfront\n",
    "* View\n",
    "\n"
   ]
  },
  {
   "cell_type": "markdown",
   "metadata": {
    "slideshow": {
     "slide_type": "slide"
    }
   },
   "source": [
    "## Additional Features: \n",
    "* Lot size\n",
    "* Basement\n",
    "* House Age\n",
    "#### Only marginal effect from:\n",
    "* Renovation, number of bedrooms, bathrooms, and floors  \n",
    "<br>\n",
    "<br>\n",
    "more on feature analysis - see \"analysis_and_regression/Investigation of Features.ipynb\"\n"
   ]
  },
  {
   "cell_type": "markdown",
   "metadata": {},
   "source": [
    "# Initial Data Load and Cleaning\n",
    "***\n",
    "* #### Loaded the \"kc_house_data.csv\" using \"initial_data_prep.py\"\n",
    "* #### filled or removed rows with missing properties \n",
    "* #### Construction Grade 3-5 (below the acceptable code) were removed\n",
    "* #### Out of 22,000 rows 20,880 were used in the model\n"
   ]
  },
  {
   "cell_type": "markdown",
   "metadata": {
    "slideshow": {
     "slide_type": "slide"
    }
   },
   "source": [
    "# Data Modeling\n",
    "#### An iterative approach to data modeling \n",
    "-  Calculating Efficiency for basic features  \n",
    "-  Prepairing model features\n",
    "-  Training multiple models\n",
    "-  Chosing the most efficient model \n",
    "-  Testing against different subset of data\n"
   ]
  },
  {
   "cell_type": "markdown",
   "metadata": {
    "slideshow": {
     "slide_type": "slide"
    }
   },
   "source": [
    "\n",
    "Steps:\n",
    "\n",
    "* Prepared data for modeling using custom \"transform_data\" function (see functions_v1.4.py)  \n",
    "\n",
    "\n",
    "* Created/trained model using statsmodels.OLS  \n",
    "\n",
    "\n",
    "* Made sure r-square is higher than 80%\n",
    "***\n"
   ]
  },
  {
   "cell_type": "markdown",
   "metadata": {
    "slideshow": {
     "slide_type": "slide"
    }
   },
   "source": [
    "### In addition to automatic -sklearn- methods, custom functions <br> were created to manually get all the coefficients from statsmodels OLS  <br> and calculate the linear slopes formula\n",
    "\n",
    "* used custom function \"calcuate_price\" and \"get_coeff\" to get coefficients from ols model (see functions_v1.4.py)"
   ]
  },
  {
   "cell_type": "markdown",
   "metadata": {
    "slideshow": {
     "slide_type": "slide"
    }
   },
   "source": [
    "# Creating UI forms\n",
    "***\n",
    "#### Building a Front End Tool:\n",
    "***\n",
    "* ipywidgets were used to create custom ui forms ( Build_Forms_v1.4.py )<br>  \n",
    "<br>\n",
    "* custom calculate_price function was linked to the input/output of the ui\n",
    "\n"
   ]
  },
  {
   "cell_type": "markdown",
   "metadata": {
    "slideshow": {
     "slide_type": "fragment"
    }
   },
   "source": [
    "<img src=\"images/predictor.jpg\" alt=\"drawing\" align=\"center\"  width=\"1200\"/> "
   ]
  },
  {
   "cell_type": "markdown",
   "metadata": {
    "slideshow": {
     "slide_type": "slide"
    }
   },
   "source": [
    "# Testing\n",
    "***\n",
    "\n",
    "We made sure the tool works as expected:\n",
    "* Multiple comparissons of predicted data against the actual data\n",
    "* Predicted price is within 90-110% of actual price (houses newer than 1980)\n",
    "* Predicted price is within 87-113% of actual price (houses older than 1980)\n",
    "***\n",
    "More deails about regression testing in  \"analysis_and_regression/Regression Tests.ipynb\""
   ]
  },
  {
   "cell_type": "markdown",
   "metadata": {
    "slideshow": {
     "slide_type": "slide"
    }
   },
   "source": [
    "# Conclusions\n",
    "***\n",
    "\n",
    "#### Considerations and Limitations:\n",
    "\n",
    "\n",
    "* The tool can be effective to estimate base price for known features\n",
    "* In the future a model should be re-trained with more up-to-date data\n",
    "* The presented prototype will be greatly improved by more advanced modeling\n"
   ]
  }
 ],
 "metadata": {
  "celltoolbar": "Slideshow",
  "kernelspec": {
   "display_name": "Python 3 (ipykernel)",
   "language": "python",
   "name": "python3"
  },
  "language_info": {
   "codemirror_mode": {
    "name": "ipython",
    "version": 3
   },
   "file_extension": ".py",
   "mimetype": "text/x-python",
   "name": "python",
   "nbconvert_exporter": "python",
   "pygments_lexer": "ipython3",
   "version": "3.9.7"
  }
 },
 "nbformat": 4,
 "nbformat_minor": 4
}
